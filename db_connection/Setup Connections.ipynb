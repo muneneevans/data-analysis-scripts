{
 "cells": [
  {
   "cell_type": "code",
   "execution_count": 22,
   "metadata": {},
   "outputs": [
    {
     "data": {
      "text/plain": [
       "<connection object at 0x7f87c9b96b48; dsn: 'host=41.89.94.68 dbname=mohdsl user=boa_user password=xxxxxxxx', closed: 0>"
      ]
     },
     "execution_count": 22,
     "metadata": {},
     "output_type": "execute_result"
    }
   ],
   "source": [
    "#import needed libraries\n",
    "import pandas as pd\n",
    "import numpy as np\n",
    "from pandas import DataFrame, Series\n",
    "import json\n",
    "import psycopg2\n",
    "\n",
    "def get_connection():\n",
    "    conn = {}\n",
    "    with open('db_config.json') as my_file:\n",
    "        db_conf = json.load(my_file)\n",
    "    conn_str = \"host={} dbname={} user={} password={}\".format(\n",
    "                db_conf['host'], db_conf['database'], \n",
    "                db_conf['user'], db_conf['passw'])\n",
    "    try:\n",
    "        conn = psycopg2.connect(conn_str)\n",
    "        return conn\n",
    "    except:\n",
    "        return 'error in connecting to database' \n",
    "        \n",
    "get_connection()"
   ]
  },
  {
   "cell_type": "code",
   "execution_count": 9,
   "metadata": {},
   "outputs": [
    {
     "data": {
      "text/plain": [
       "u'41.89.94.68'"
      ]
     },
     "execution_count": 9,
     "metadata": {},
     "output_type": "execute_result"
    }
   ],
   "source": [
    "get_connection()"
   ]
  },
  {
   "cell_type": "code",
   "execution_count": null,
   "metadata": {
    "collapsed": true
   },
   "outputs": [],
   "source": []
  }
 ],
 "metadata": {
  "kernelspec": {
   "display_name": "Python 2",
   "language": "python",
   "name": "python2"
  },
  "language_info": {
   "codemirror_mode": {
    "name": "ipython",
    "version": 2
   },
   "file_extension": ".py",
   "mimetype": "text/x-python",
   "name": "python",
   "nbconvert_exporter": "python",
   "pygments_lexer": "ipython2",
   "version": "2.7.13"
  }
 },
 "nbformat": 4,
 "nbformat_minor": 2
}
