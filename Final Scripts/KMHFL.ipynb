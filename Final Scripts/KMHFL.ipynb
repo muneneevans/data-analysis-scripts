{
 "cells": [
  {
   "cell_type": "code",
   "execution_count": 1,
   "metadata": {
    "collapsed": true
   },
   "outputs": [],
   "source": [
    "#import needed libraries\n",
    "import pandas as pd\n",
    "import numpy as np\n",
    "from pandas import DataFrame, Series\n",
    "import json\n",
    "import psycopg2\n",
    "import os"
   ]
  },
  {
   "cell_type": "code",
   "execution_count": null,
   "metadata": {
    "collapsed": true
   },
   "outputs": [],
   "source": []
  },
  {
   "cell_type": "code",
   "execution_count": 2,
   "metadata": {
    "collapsed": true
   },
   "outputs": [],
   "source": [
    "def get_connection():\n",
    "    conn = {}\n",
    "    with open('../db_connection/db_config.json') as my_file:\n",
    "        db_conf = json.load(my_file)\n",
    "    conn_str = \"host={} dbname={} user={} password={}\".format(\n",
    "                db_conf['host'], db_conf['database'], \n",
    "                db_conf['user'], db_conf['passw'])\n",
    "    try:\n",
    "        conn = psycopg2.connect(conn_str)\n",
    "        return conn\n",
    "    except:\n",
    "        return 'error in connecting to database'"
   ]
  },
  {
   "cell_type": "code",
   "execution_count": 3,
   "metadata": {},
   "outputs": [
    {
     "data": {
      "text/plain": [
       "'error in connecting to database'"
      ]
     },
     "execution_count": 3,
     "metadata": {},
     "output_type": "execute_result"
    }
   ],
   "source": [
    "get_connection()"
   ]
  },
  {
   "cell_type": "code",
   "execution_count": null,
   "metadata": {
    "collapsed": true
   },
   "outputs": [],
   "source": []
  },
  {
   "cell_type": "code",
   "execution_count": null,
   "metadata": {
    "collapsed": true
   },
   "outputs": [],
   "source": []
  },
  {
   "cell_type": "code",
   "execution_count": 4,
   "metadata": {
    "collapsed": true
   },
   "outputs": [],
   "source": [
    "#get a specific county\n",
    "def get_county_code_by_id(county_id):\n",
    "    conn = get_connection()\n",
    "    all_counties = pd.DataFrame()\n",
    "    query = \"SELECT * FROM common_county WHERE id = '%s' ;\" %(county_id)    \n",
    "    for chunk in pd.read_sql(query, con=conn, chunksize=10):\n",
    "        all_counties = all_counties.append(chunk)    \n",
    "    \n",
    "    return all_counties.head(1)"
   ]
  },
  {
   "cell_type": "code",
   "execution_count": 5,
   "metadata": {},
   "outputs": [
    {
     "ename": "ImportError",
     "evalue": "Using URI string without sqlalchemy installed.",
     "output_type": "error",
     "traceback": [
      "\u001b[0;31m---------------------------------------------------------------------------\u001b[0m",
      "\u001b[0;31mImportError\u001b[0m                               Traceback (most recent call last)",
      "\u001b[0;32m<ipython-input-5-8b592a013a60>\u001b[0m in \u001b[0;36m<module>\u001b[0;34m()\u001b[0m\n\u001b[0;32m----> 1\u001b[0;31m \u001b[0ma\u001b[0m \u001b[0;34m=\u001b[0m \u001b[0mget_county_code_by_id\u001b[0m\u001b[0;34m(\u001b[0m\u001b[0;34m'866cc286-8201-493e-a4db-a9b2a5f64f8e'\u001b[0m\u001b[0;34m)\u001b[0m\u001b[0;34m\u001b[0m\u001b[0m\n\u001b[0m\u001b[1;32m      2\u001b[0m \u001b[0;31m# a['name']\u001b[0m\u001b[0;34m\u001b[0m\u001b[0;34m\u001b[0m\u001b[0m\n\u001b[1;32m      3\u001b[0m \u001b[0;31m# a.columns\u001b[0m\u001b[0;34m\u001b[0m\u001b[0;34m\u001b[0m\u001b[0m\n\u001b[1;32m      4\u001b[0m \u001b[0ma\u001b[0m\u001b[0;34m\u001b[0m\u001b[0m\n",
      "\u001b[0;32m<ipython-input-4-edf9d811ca1a>\u001b[0m in \u001b[0;36mget_county_code_by_id\u001b[0;34m(county_id)\u001b[0m\n\u001b[1;32m      4\u001b[0m     \u001b[0mall_counties\u001b[0m \u001b[0;34m=\u001b[0m \u001b[0mpd\u001b[0m\u001b[0;34m.\u001b[0m\u001b[0mDataFrame\u001b[0m\u001b[0;34m(\u001b[0m\u001b[0;34m)\u001b[0m\u001b[0;34m\u001b[0m\u001b[0m\n\u001b[1;32m      5\u001b[0m     \u001b[0mquery\u001b[0m \u001b[0;34m=\u001b[0m \u001b[0;34m\"SELECT * FROM common_county WHERE id = '%s' ;\"\u001b[0m \u001b[0;34m%\u001b[0m\u001b[0;34m(\u001b[0m\u001b[0mcounty_id\u001b[0m\u001b[0;34m)\u001b[0m\u001b[0;34m\u001b[0m\u001b[0m\n\u001b[0;32m----> 6\u001b[0;31m     \u001b[0;32mfor\u001b[0m \u001b[0mchunk\u001b[0m \u001b[0;32min\u001b[0m \u001b[0mpd\u001b[0m\u001b[0;34m.\u001b[0m\u001b[0mread_sql\u001b[0m\u001b[0;34m(\u001b[0m\u001b[0mquery\u001b[0m\u001b[0;34m,\u001b[0m \u001b[0mcon\u001b[0m\u001b[0;34m=\u001b[0m\u001b[0mconn\u001b[0m\u001b[0;34m,\u001b[0m \u001b[0mchunksize\u001b[0m\u001b[0;34m=\u001b[0m\u001b[0;36m10\u001b[0m\u001b[0;34m)\u001b[0m\u001b[0;34m:\u001b[0m\u001b[0;34m\u001b[0m\u001b[0m\n\u001b[0m\u001b[1;32m      7\u001b[0m         \u001b[0mall_counties\u001b[0m \u001b[0;34m=\u001b[0m \u001b[0mall_counties\u001b[0m\u001b[0;34m.\u001b[0m\u001b[0mappend\u001b[0m\u001b[0;34m(\u001b[0m\u001b[0mchunk\u001b[0m\u001b[0;34m)\u001b[0m\u001b[0;34m\u001b[0m\u001b[0m\n\u001b[1;32m      8\u001b[0m \u001b[0;34m\u001b[0m\u001b[0m\n",
      "\u001b[0;32m/usr/local/lib/python2.7/dist-packages/pandas/io/sql.pyc\u001b[0m in \u001b[0;36mread_sql\u001b[0;34m(sql, con, index_col, coerce_float, params, parse_dates, columns, chunksize)\u001b[0m\n\u001b[1;32m    392\u001b[0m \u001b[0;34m\u001b[0m\u001b[0m\n\u001b[1;32m    393\u001b[0m     \"\"\"\n\u001b[0;32m--> 394\u001b[0;31m     \u001b[0mpandas_sql\u001b[0m \u001b[0;34m=\u001b[0m \u001b[0mpandasSQL_builder\u001b[0m\u001b[0;34m(\u001b[0m\u001b[0mcon\u001b[0m\u001b[0;34m)\u001b[0m\u001b[0;34m\u001b[0m\u001b[0m\n\u001b[0m\u001b[1;32m    395\u001b[0m \u001b[0;34m\u001b[0m\u001b[0m\n\u001b[1;32m    396\u001b[0m     \u001b[0;32mif\u001b[0m \u001b[0misinstance\u001b[0m\u001b[0;34m(\u001b[0m\u001b[0mpandas_sql\u001b[0m\u001b[0;34m,\u001b[0m \u001b[0mSQLiteDatabase\u001b[0m\u001b[0;34m)\u001b[0m\u001b[0;34m:\u001b[0m\u001b[0;34m\u001b[0m\u001b[0m\n",
      "\u001b[0;32m/usr/local/lib/python2.7/dist-packages/pandas/io/sql.pyc\u001b[0m in \u001b[0;36mpandasSQL_builder\u001b[0;34m(con, flavor, schema, meta, is_cursor)\u001b[0m\n\u001b[1;32m    533\u001b[0m         \u001b[0;32mreturn\u001b[0m \u001b[0mSQLDatabase\u001b[0m\u001b[0;34m(\u001b[0m\u001b[0mcon\u001b[0m\u001b[0;34m,\u001b[0m \u001b[0mschema\u001b[0m\u001b[0;34m=\u001b[0m\u001b[0mschema\u001b[0m\u001b[0;34m,\u001b[0m \u001b[0mmeta\u001b[0m\u001b[0;34m=\u001b[0m\u001b[0mmeta\u001b[0m\u001b[0;34m)\u001b[0m\u001b[0;34m\u001b[0m\u001b[0m\n\u001b[1;32m    534\u001b[0m     \u001b[0;32melif\u001b[0m \u001b[0misinstance\u001b[0m\u001b[0;34m(\u001b[0m\u001b[0mcon\u001b[0m\u001b[0;34m,\u001b[0m \u001b[0mstring_types\u001b[0m\u001b[0;34m)\u001b[0m\u001b[0;34m:\u001b[0m\u001b[0;34m\u001b[0m\u001b[0m\n\u001b[0;32m--> 535\u001b[0;31m         \u001b[0;32mraise\u001b[0m \u001b[0mImportError\u001b[0m\u001b[0;34m(\u001b[0m\u001b[0;34m\"Using URI string without sqlalchemy installed.\"\u001b[0m\u001b[0;34m)\u001b[0m\u001b[0;34m\u001b[0m\u001b[0m\n\u001b[0m\u001b[1;32m    536\u001b[0m     \u001b[0;32melse\u001b[0m\u001b[0;34m:\u001b[0m\u001b[0;34m\u001b[0m\u001b[0m\n\u001b[1;32m    537\u001b[0m         \u001b[0;32mreturn\u001b[0m \u001b[0mSQLiteDatabase\u001b[0m\u001b[0;34m(\u001b[0m\u001b[0mcon\u001b[0m\u001b[0;34m,\u001b[0m \u001b[0mis_cursor\u001b[0m\u001b[0;34m=\u001b[0m\u001b[0mis_cursor\u001b[0m\u001b[0;34m)\u001b[0m\u001b[0;34m\u001b[0m\u001b[0m\n",
      "\u001b[0;31mImportError\u001b[0m: Using URI string without sqlalchemy installed."
     ]
    }
   ],
   "source": [
    "a = get_county_code_by_id('866cc286-8201-493e-a4db-a9b2a5f64f8e')\n",
    "# a['name']\n",
    "# a.columns\n",
    "a"
   ]
  },
  {
   "cell_type": "code",
   "execution_count": null,
   "metadata": {},
   "outputs": [],
   "source": [
    "get_county_code_by_id('fd86ddba-a455-431d-9eae-e78bcac4360a')"
   ]
  },
  {
   "cell_type": "code",
   "execution_count": null,
   "metadata": {
    "collapsed": true
   },
   "outputs": [],
   "source": []
  },
  {
   "cell_type": "code",
   "execution_count": null,
   "metadata": {
    "collapsed": true
   },
   "outputs": [],
   "source": []
  },
  {
   "cell_type": "code",
   "execution_count": null,
   "metadata": {
    "collapsed": true
   },
   "outputs": [],
   "source": [
    "def get_county_constituency_codes(county_id):\n",
    "    '''return codes for constituencies in county'''\n",
    "    conn = get_connection()\n",
    "    all_constituencies = DataFrame()\n",
    "    query = \"SELECT * FROM common_constituency WHERE county_id = '%s' ;\" %(county_id)   \n",
    "    for chunk in pd.read_sql(query, con=conn, chunksize=1000):\n",
    "        all_constituencies = all_constituencies.append(chunk)        \n",
    "    return all_constituencies"
   ]
  },
  {
   "cell_type": "code",
   "execution_count": null,
   "metadata": {
    "scrolled": true
   },
   "outputs": [],
   "source": [
    "get_county_constituency_codes('866cc286-8201-493e-a4db-a9b2a5f64f8e')"
   ]
  },
  {
   "cell_type": "code",
   "execution_count": null,
   "metadata": {
    "collapsed": true
   },
   "outputs": [],
   "source": []
  },
  {
   "cell_type": "code",
   "execution_count": null,
   "metadata": {
    "collapsed": true
   },
   "outputs": [],
   "source": []
  },
  {
   "cell_type": "code",
   "execution_count": null,
   "metadata": {
    "collapsed": true
   },
   "outputs": [],
   "source": [
    "#get all the wards in a constituency\n",
    "def get_constituency_wards(constituency_id):\n",
    "    '''return ids for wards in a constituency'''\n",
    "    conn = get_connection()\n",
    "    all_wards = DataFrame()\n",
    "    \n",
    "    query = \"SELECT * FROM common_ward WHERE constituency_id = '%s' ;\" %(constituency_id)\n",
    "    for chunk in pd.read_sql(query, con=conn, chunksize=100):\n",
    "        all_wards = all_wards.append(chunk)\n",
    "    \n",
    "\n",
    "    all_wards = all_wards[['name','id','constituency_id']]\n",
    "\n",
    "    return all_wards"
   ]
  },
  {
   "cell_type": "code",
   "execution_count": null,
   "metadata": {},
   "outputs": [],
   "source": [
    "get_constituency_wards('66eababf-7185-4479-919a-3448838d2f4f')"
   ]
  },
  {
   "cell_type": "code",
   "execution_count": null,
   "metadata": {
    "collapsed": true
   },
   "outputs": [],
   "source": []
  },
  {
   "cell_type": "code",
   "execution_count": null,
   "metadata": {
    "collapsed": true
   },
   "outputs": [],
   "source": []
  },
  {
   "cell_type": "code",
   "execution_count": null,
   "metadata": {
    "collapsed": true
   },
   "outputs": [],
   "source": [
    "def get_ward_facilities(ward_id):\n",
    "    '''return ids for facilities in a ward'''\n",
    "    conn = get_connection()\n",
    "    all_facilities = DataFrame()\n",
    "    \n",
    "    query = \"SELECT * FROM facilities_facility WHERE ward_id = '%s' ;\" %(ward_id)\n",
    "    for chunk in pd.read_sql(query, con=conn, chunksize=100):\n",
    "        all_facilities = all_facilities.append(chunk)   \n",
    "\n",
    "#     all_facilities = all_facilities[['name','id','constituency_id']]\n",
    "\n",
    "    return all_facilities"
   ]
  },
  {
   "cell_type": "code",
   "execution_count": null,
   "metadata": {},
   "outputs": [],
   "source": [
    "get_ward_facilities('63a51953-aedb-45fb-add3-1c17afdae544')"
   ]
  },
  {
   "cell_type": "code",
   "execution_count": null,
   "metadata": {
    "collapsed": true
   },
   "outputs": [],
   "source": []
  },
  {
   "cell_type": "code",
   "execution_count": null,
   "metadata": {
    "collapsed": true
   },
   "outputs": [],
   "source": []
  },
  {
   "cell_type": "code",
   "execution_count": null,
   "metadata": {
    "collapsed": true
   },
   "outputs": [],
   "source": [
    "#get all the facilities in a county\n",
    "def get_county_facilities(county_id):\n",
    "    conn = get_connection()\n",
    "    county = get_county_code_by_id(county_id)\n",
    "    \n",
    "    #get constituencies in the county\n",
    "    constituencies = get_county_constituency_codes(county_id)\n",
    "    constituencies = constituencies.rename(index=str, columns={'id':'constituency_id', 'name': \"constituency_name\"})\n",
    "    \n",
    "    #get all the wards for the county\n",
    "    all_wards = DataFrame()\n",
    "    for index, constituency in constituencies.iterrows():\n",
    "        chunk = get_constituency_wards(constituency['constituency_id'])        \n",
    "        all_wards = all_wards.append(chunk)    \n",
    "    \n",
    "    all_facilities = DataFrame()\n",
    "    for index, ward in all_wards.iterrows():\n",
    "        all_facilities = all_facilities.append(get_ward_facilities(ward['id']))\n",
    "        \n",
    "    return all_facilities"
   ]
  },
  {
   "cell_type": "code",
   "execution_count": null,
   "metadata": {},
   "outputs": [],
   "source": [
    "county_facilities = get_county_facilities('866cc286-8201-493e-a4db-a9b2a5f64f8e')\n",
    "county_facilities.columns"
   ]
  },
  {
   "cell_type": "code",
   "execution_count": null,
   "metadata": {
    "collapsed": true
   },
   "outputs": [],
   "source": []
  },
  {
   "cell_type": "code",
   "execution_count": null,
   "metadata": {
    "collapsed": true
   },
   "outputs": [],
   "source": []
  },
  {
   "cell_type": "code",
   "execution_count": null,
   "metadata": {
    "collapsed": true
   },
   "outputs": [],
   "source": [
    "def get_constituency_by_id(constituency_id):\n",
    "    conn = get_connection()\n",
    "    all_constituencies = pd.DataFrame()\n",
    "    query = \"SELECT * FROM common_constituency WHERE id = '%s' ;\" %(constituency_id)   \n",
    "    for chunk in pd.read_sql(query, con=conn, chunksize=100):\n",
    "        all_constituencies = all_constituencies.append(chunk)\n",
    "\n",
    "    # all_constituencies = all_constituencies[all_constituencies['id']==constituency_id]\n",
    "    # import pdb\n",
    "    # pdb.set_trace()\n",
    "    \n",
    "    return all_constituencies.head(1)"
   ]
  },
  {
   "cell_type": "code",
   "execution_count": null,
   "metadata": {
    "collapsed": true
   },
   "outputs": [],
   "source": []
  },
  {
   "cell_type": "code",
   "execution_count": null,
   "metadata": {
    "collapsed": true
   },
   "outputs": [],
   "source": []
  },
  {
   "cell_type": "code",
   "execution_count": null,
   "metadata": {
    "collapsed": true
   },
   "outputs": [],
   "source": [
    "def get_ward_facilities_filter(ward_id, filters=None):\n",
    "    '''return ids for facilities in a ward'''\n",
    "    conn = get_connection()\n",
    "    all_facilities = DataFrame()\n",
    "    \n",
    "    query = \"SELECT * FROM facilities_facility WHERE ward_id = '%s' ;\" %(ward_id)\n",
    "    for chunk in pd.read_sql(query, con=conn, chunksize=100):\n",
    "        all_facilities = all_facilities.append(chunk)   \n",
    "\n",
    "\n",
    "    if filters:\n",
    "        for key, value in filters.iteritems():            \n",
    "            all_facilities = all_facilities[all_facilities[key] == value]\n",
    "\n",
    "    return all_facilities"
   ]
  },
  {
   "cell_type": "code",
   "execution_count": null,
   "metadata": {
    "collapsed": true
   },
   "outputs": [],
   "source": [
    "filters={\n",
    "    \"facility_type_id\": \"6511a5d0-eaca-47fe-b953-2ba5831e21b5\",\n",
    "    \"keph_level_id\": \"7b8cced5-f9a1-4f18-aa2e-f2241ef9c984\",    \n",
    "}"
   ]
  },
  {
   "cell_type": "code",
   "execution_count": null,
   "metadata": {},
   "outputs": [],
   "source": [
    "filters"
   ]
  },
  {
   "cell_type": "code",
   "execution_count": null,
   "metadata": {},
   "outputs": [],
   "source": [
    "get_ward_facilities_filter('63a51953-aedb-45fb-add3-1c17afdae544', filters)"
   ]
  },
  {
   "cell_type": "code",
   "execution_count": null,
   "metadata": {},
   "outputs": [],
   "source": [
    "ward_facilities = get_ward_facilities_filter('63a51953-aedb-45fb-add3-1c17afdae544', filters)\n",
    "ward_facilities"
   ]
  },
  {
   "cell_type": "code",
   "execution_count": null,
   "metadata": {
    "collapsed": true
   },
   "outputs": [],
   "source": []
  },
  {
   "cell_type": "code",
   "execution_count": null,
   "metadata": {
    "collapsed": true
   },
   "outputs": [],
   "source": []
  },
  {
   "cell_type": "code",
   "execution_count": null,
   "metadata": {
    "collapsed": true
   },
   "outputs": [],
   "source": [
    "def get_ward_by_id(ward_id, in_json=False):\n",
    "    conn = get_connection()\n",
    "    all_wards = pd.DataFrame()\n",
    "    query = \"SELECT * FROM common_ward WHERE id = '%s' ;\" %(ward_id)\n",
    "    all_wards = df = pd.read_sql(query, con=conn)\n",
    "    if in_json:\n",
    "        return all_wards.head(1).to_json(orient='records')\n",
    "    else:\n",
    "        return all_wards.head(1)"
   ]
  },
  {
   "cell_type": "code",
   "execution_count": null,
   "metadata": {},
   "outputs": [],
   "source": [
    "ward = get_ward_by_id('e5b6dea5-d8de-4480-b853-2379b90e73b1')\n",
    "ward"
   ]
  },
  {
   "cell_type": "code",
   "execution_count": null,
   "metadata": {
    "collapsed": true
   },
   "outputs": [],
   "source": []
  },
  {
   "cell_type": "code",
   "execution_count": null,
   "metadata": {
    "collapsed": true
   },
   "outputs": [],
   "source": [
    "def country_facilities():\n",
    "    conn = get_connection()\n",
    "    all_facilities = pd.DataFrame()\n",
    "    query = '''SELECT  common_county.id AS county_id, COUNT(facilities_facility.id) as number_of_facilities , SUM(number_of_beds) AS number_of_beds, SUM(number_of_cots) AS number_of_cots\n",
    "        FROM facilities_facility , common_ward , common_constituency , common_county \n",
    "        WHERE facilities_facility.ward_id = common_ward.id \n",
    "            AND common_ward.constituency_id = common_constituency.id \n",
    "            AND common_constituency.county_id = common_county.id\n",
    "        GROUP BY(common_county.id)'''\n",
    "    all_facilities = pd.read_sql(query, con=conn)\n",
    "    return all_facilities"
   ]
  },
  {
   "cell_type": "code",
   "execution_count": null,
   "metadata": {},
   "outputs": [],
   "source": [
    "cf = country_facilities()\n",
    "cf"
   ]
  },
  {
   "cell_type": "code",
   "execution_count": null,
   "metadata": {},
   "outputs": [],
   "source": [
    "country_facilities()"
   ]
  },
  {
   "cell_type": "code",
   "execution_count": null,
   "metadata": {
    "collapsed": true
   },
   "outputs": [],
   "source": [
    "c = country_facilities()"
   ]
  },
  {
   "cell_type": "code",
   "execution_count": null,
   "metadata": {},
   "outputs": [],
   "source": [
    "c[c['county_id'] == '866cc286-8201-493e-a4db-a9b2a5f64f8e']"
   ]
  },
  {
   "cell_type": "code",
   "execution_count": null,
   "metadata": {},
   "outputs": [],
   "source": [
    "get_county_code_by_id('866cc286-8201-493e-a4db-a9b2a5f64f8e')"
   ]
  },
  {
   "cell_type": "code",
   "execution_count": null,
   "metadata": {
    "collapsed": true
   },
   "outputs": [],
   "source": [
    "\n"
   ]
  },
  {
   "cell_type": "code",
   "execution_count": null,
   "metadata": {
    "collapsed": true
   },
   "outputs": [],
   "source": [
    "def country_summary():\n",
    "    conn = get_connection()\n",
    "    all_facilities = pd.DataFrame()\n",
    "    query = '''SELECT  common_county.id AS county_id, COUNT(facilities_facility.id) as number_of_facilities , SUM(number_of_beds) AS number_of_beds, SUM(number_of_cots) AS number_of_cots\n",
    "        FROM facilities_facility , common_ward , common_constituency , common_county \n",
    "        WHERE facilities_facility.ward_id = common_ward.id \n",
    "            AND common_ward.constituency_id = common_constituency.id \n",
    "            AND common_constituency.county_id = common_county.id\n",
    "        GROUP BY(common_county.id)'''\n",
    "    all_facilities = pd.read_sql(query, con=conn)\n",
    "    return all_facilities"
   ]
  },
  {
   "cell_type": "code",
   "execution_count": null,
   "metadata": {
    "scrolled": true
   },
   "outputs": [],
   "source": [
    "country_summary()"
   ]
  },
  {
   "cell_type": "code",
   "execution_count": null,
   "metadata": {
    "collapsed": true
   },
   "outputs": [],
   "source": []
  },
  {
   "cell_type": "code",
   "execution_count": null,
   "metadata": {
    "collapsed": true
   },
   "outputs": [],
   "source": [
    "def country_detailed_summary():\n",
    "    conn = get_connection()\n",
    "    all_facilities = pd.DataFrame()\n",
    "    facility_types_query = '''SELECT facilities_facility.id as count, common_county.name AS county_name, facilities_facilitytype.name  as facility_type_name\n",
    "        FROM facilities_facility , common_ward , common_constituency , common_county, facilities_facilitytype \n",
    "        WHERE facilities_facility.ward_id = common_ward.id \n",
    "            AND common_ward.constituency_id = common_constituency.id\n",
    "            AND facilities_facilitytype.id = facilities_facility.facility_type_id\n",
    "            AND common_constituency.county_id = common_county.id'''\n",
    "    all_facilities = pd.read_sql(facility_types_query, con=conn).groupby(['county_name','facility_type_name']).count().unstack().T.fillna(0).xs('count', axis=0, drop_level=True).T\n",
    "    \n",
    "    country_summary =[]\n",
    "    return all_facilities"
   ]
  },
  {
   "cell_type": "code",
   "execution_count": null,
   "metadata": {},
   "outputs": [],
   "source": [
    "countryf = country_detailed_summary()\n",
    "countryf.to_json(orient='table')"
   ]
  },
  {
   "cell_type": "code",
   "execution_count": null,
   "metadata": {
    "collapsed": true
   },
   "outputs": [],
   "source": []
  },
  {
   "cell_type": "code",
   "execution_count": null,
   "metadata": {
    "collapsed": true,
    "scrolled": false
   },
   "outputs": [],
   "source": []
  },
  {
   "cell_type": "code",
   "execution_count": null,
   "metadata": {
    "collapsed": true
   },
   "outputs": [],
   "source": [
    "def country_keph_level_summary():\n",
    "    conn = get_connection()\n",
    "    all_facilities = pd.DataFrame()\n",
    "    facility_types_query = '''SELECT facilities_facility.id as count, common_county.name AS county_name, facilities_kephlevel.name  as keph_level_name\n",
    "        FROM facilities_facility , common_ward , common_constituency , common_county, facilities_kephlevel\n",
    "        WHERE facilities_facility.ward_id = common_ward.id \n",
    "            AND common_ward.constituency_id = common_constituency.id\n",
    "            AND facilities_kephlevel.id = facilities_facility.keph_level_id\n",
    "            AND common_constituency.county_id = common_county.id'''\n",
    "    all_facilities = pd.read_sql(facility_types_query, con=conn).groupby(['county_name','keph_level_name']).count().unstack().T.fillna(0).xs('count', axis=0, drop_level=True).T\n",
    "    \n",
    "    country_summary =[]\n",
    "    return all_facilities"
   ]
  },
  {
   "cell_type": "code",
   "execution_count": null,
   "metadata": {
    "collapsed": true
   },
   "outputs": [],
   "source": [
    "country_keph = country_keph_level_summary()"
   ]
  },
  {
   "cell_type": "code",
   "execution_count": null,
   "metadata": {},
   "outputs": [],
   "source": [
    "country_keph.to_json(orient='table')"
   ]
  },
  {
   "cell_type": "code",
   "execution_count": null,
   "metadata": {
    "collapsed": true
   },
   "outputs": [],
   "source": []
  },
  {
   "cell_type": "code",
   "execution_count": null,
   "metadata": {
    "collapsed": true
   },
   "outputs": [],
   "source": []
  },
  {
   "cell_type": "code",
   "execution_count": null,
   "metadata": {
    "collapsed": true
   },
   "outputs": [],
   "source": [
    "def county_keph_level_summary(county_id):\n",
    "    conn = get_connection()\n",
    "    constitiency_summary = pd.DataFrame()\n",
    "    facility_types_query = '''SELECT facilities_facility.id as count, common_constituency.name AS constituency_name, facilities_kephlevel.name  as keph_level_name\n",
    "        FROM facilities_facility , common_ward , common_constituency , common_county, facilities_kephlevel\n",
    "        WHERE facilities_facility.ward_id = common_ward.id \n",
    "            AND common_ward.constituency_id = common_constituency.id\n",
    "            AND facilities_kephlevel.id = facilities_facility.keph_level_id\n",
    "            AND common_constituency.county_id = common_county.id\n",
    "            AND common_county.id = '%s' ''' %(county_id)\n",
    "    constitiency_summary = pd.read_sql(facility_types_query, con=conn).groupby(['constituency_name','keph_level_name']).count().unstack().T.fillna(0).xs('count', axis=0, drop_level=True).T\n",
    "        \n",
    "    return constitiency_summary"
   ]
  },
  {
   "cell_type": "code",
   "execution_count": null,
   "metadata": {},
   "outputs": [],
   "source": [
    "county_keph_level_summary('866cc286-8201-493e-a4db-a9b2a5f64f8e')"
   ]
  },
  {
   "cell_type": "code",
   "execution_count": null,
   "metadata": {
    "collapsed": true
   },
   "outputs": [],
   "source": []
  },
  {
   "cell_type": "code",
   "execution_count": null,
   "metadata": {
    "collapsed": true
   },
   "outputs": [],
   "source": [
    "def get_county_summary(county_id,in_json=False):\n",
    "    '''return a summary of beds cots and facilities for all counties'''\n",
    "    conn = get_connection()\n",
    "    country_summary = pd.DataFrame()\n",
    "    query = '''SELECT  common_constituency.name AS constituency_name, COUNT(facilities_facility.id) as number_of_facilities , SUM(number_of_beds) AS number_of_beds, SUM(number_of_cots) AS number_of_cots\n",
    "        FROM facilities_facility , common_ward , common_constituency , common_county \n",
    "        WHERE facilities_facility.ward_id = common_ward.id \n",
    "            AND common_ward.constituency_id = common_constituency.id\n",
    "            AND common_constituency.county_id = common_county.id\n",
    "            AND common_county.id = '%s'\n",
    "        GROUP BY(common_constituency.name)'''%(county_id)\n",
    "    country_summary = pd.read_sql(query, con=conn)\n",
    "    \n",
    "\n",
    "    if in_json:\n",
    "        return country_summary.to_json(orient='records')\n",
    "    else:\n",
    "        return country_summary"
   ]
  },
  {
   "cell_type": "code",
   "execution_count": null,
   "metadata": {},
   "outputs": [],
   "source": [
    "get_county_summary('866cc286-8201-493e-a4db-a9b2a5f64f8e', False)"
   ]
  },
  {
   "cell_type": "code",
   "execution_count": null,
   "metadata": {
    "collapsed": true
   },
   "outputs": [],
   "source": []
  },
  {
   "cell_type": "code",
   "execution_count": null,
   "metadata": {
    "collapsed": true
   },
   "outputs": [],
   "source": []
  },
  {
   "cell_type": "code",
   "execution_count": null,
   "metadata": {
    "collapsed": true
   },
   "outputs": [],
   "source": [
    "def county_facility_type_summary(county_id):\n",
    "    conn = get_connection()\n",
    "    constitiency_summary = pd.DataFrame()\n",
    "    facility_types_query = '''SELECT facilities_facility.id as count, common_constituency.name AS constituency_name, facilities_facilitytype.name  as facility_type_name\n",
    "        FROM facilities_facility , common_ward , common_constituency , common_county, facilities_facilitytype\n",
    "        WHERE facilities_facility.ward_id = common_ward.id \n",
    "            AND common_ward.constituency_id = common_constituency.id\n",
    "            AND facilities_facilitytype.id = facilities_facility.facility_type_id\n",
    "            AND common_constituency.county_id = common_county.id\n",
    "            AND common_county.id = '%s' ''' %(county_id)\n",
    "    constitiency_summary = pd.read_sql(facility_types_query, con=conn).groupby(['constituency_name','facility_type_name']).count().unstack().T.fillna(0).xs('count', axis=0, drop_level=True).T\n",
    "        \n",
    "    return constitiency_summary"
   ]
  },
  {
   "cell_type": "code",
   "execution_count": null,
   "metadata": {
    "collapsed": true
   },
   "outputs": [],
   "source": []
  },
  {
   "cell_type": "code",
   "execution_count": null,
   "metadata": {
    "collapsed": true
   },
   "outputs": [],
   "source": []
  },
  {
   "cell_type": "code",
   "execution_count": null,
   "metadata": {
    "collapsed": true
   },
   "outputs": [],
   "source": []
  },
  {
   "cell_type": "code",
   "execution_count": null,
   "metadata": {
    "collapsed": true
   },
   "outputs": [],
   "source": [
    "def country_beds_summary():\n",
    "    conn = get_connection()\n",
    "    country_summary = pd.DataFrame()\n",
    "    facility_types_query = '''SELECT facilities_facility.number_of_beds as total, common_county.name AS county_name\n",
    "        FROM facilities_facility , common_ward , common_constituency , common_county\n",
    "        WHERE facilities_facility.ward_id = common_ward.id \n",
    "            AND common_ward.constituency_id = common_constituency.id            \n",
    "            AND common_constituency.county_id = common_county.id'''\n",
    "    country_summary = pd.read_sql(facility_types_query, con=conn).groupby(['county_name']).sum().unstack().T.fillna(0).xs('total', axis=0, drop_level=True).T\n",
    "    return country_summary"
   ]
  },
  {
   "cell_type": "code",
   "execution_count": null,
   "metadata": {},
   "outputs": [],
   "source": [
    "country_beds_summary().to_json()"
   ]
  },
  {
   "cell_type": "code",
   "execution_count": null,
   "metadata": {
    "collapsed": true
   },
   "outputs": [],
   "source": []
  },
  {
   "cell_type": "code",
   "execution_count": null,
   "metadata": {
    "collapsed": true
   },
   "outputs": [],
   "source": [
    "def country_cots_summary():\n",
    "    conn = get_connection()\n",
    "    country_summary = pd.DataFrame()\n",
    "    facility_types_query = '''SELECT facilities_facility.number_of_cots as total, common_county.name AS county_name\n",
    "        FROM facilities_facility , common_ward , common_constituency , common_county\n",
    "        WHERE facilities_facility.ward_id = common_ward.id \n",
    "            AND common_ward.constituency_id = common_constituency.id            \n",
    "            AND common_constituency.county_id = common_county.id'''\n",
    "    country_summary = pd.read_sql(facility_types_query, con=conn).groupby(['county_name']).sum().unstack().T.fillna(0).xs('total', axis=0, drop_level=True).T\n",
    "    return country_summary"
   ]
  },
  {
   "cell_type": "code",
   "execution_count": null,
   "metadata": {},
   "outputs": [],
   "source": [
    "country_cots_summary()"
   ]
  },
  {
   "cell_type": "code",
   "execution_count": null,
   "metadata": {
    "collapsed": true
   },
   "outputs": [],
   "source": []
  },
  {
   "cell_type": "code",
   "execution_count": null,
   "metadata": {
    "collapsed": true
   },
   "outputs": [],
   "source": [
    "def county_detailed_summary(county_id):\n",
    "    conn = get_connection()\n",
    "    all_facilities = pd.DataFrame()\n",
    "    facility_types_query = '''SELECT facilities_facility.id as count, common_constituency.name AS constituency_name, facilities_facilitytype.name  as facility_type_name\n",
    "        FROM facilities_facility , common_ward , common_constituency , common_county, facilities_facilitytype \n",
    "        WHERE facilities_facility.ward_id = common_ward.id \n",
    "            AND common_ward.constituency_id = common_constituency.id\n",
    "            AND facilities_facilitytype.id = facilities_facility.facility_type_id\n",
    "            AND common_constituency.county_id = common_county.id\n",
    "            AND common_county.id = '%s' '''%(county_id)\n",
    "    all_facilities = pd.read_sql(facility_types_query, con=conn).groupby(['constituency_name','facility_type_name']).count().unstack().T.fillna(0).xs('count', axis=0, drop_level=True).T\n",
    "    \n",
    "    country_summary =[]\n",
    "    return all_facilities"
   ]
  },
  {
   "cell_type": "code",
   "execution_count": null,
   "metadata": {},
   "outputs": [],
   "source": [
    "county_detailed_summary('d69bfd25-18f1-4640-8e02-40f97df76a1a')"
   ]
  },
  {
   "cell_type": "code",
   "execution_count": null,
   "metadata": {
    "collapsed": true
   },
   "outputs": [],
   "source": []
  },
  {
   "cell_type": "code",
   "execution_count": null,
   "metadata": {
    "collapsed": true
   },
   "outputs": [],
   "source": []
  }
 ],
 "metadata": {
  "kernelspec": {
   "display_name": "Python 2",
   "language": "python",
   "name": "python2"
  },
  "language_info": {
   "codemirror_mode": {
    "name": "ipython",
    "version": 2
   },
   "file_extension": ".py",
   "mimetype": "text/x-python",
   "name": "python",
   "nbconvert_exporter": "python",
   "pygments_lexer": "ipython2",
   "version": "2.7.13"
  }
 },
 "nbformat": 4,
 "nbformat_minor": 2
}
