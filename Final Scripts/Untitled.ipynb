{
 "cells": [
  {
   "cell_type": "code",
   "execution_count": 4,
   "metadata": {
    "collapsed": true
   },
   "outputs": [],
   "source": [
    "#import needed librar\n",
    "import pandas as pd\n",
    "import numpy as np\n",
    "from pandas import DataFrame, Series\n",
    "import json\n",
    "import psycopg2\n",
    "import os\n",
    "import re\n",
    "# "
   ]
  },
  {
   "cell_type": "code",
   "execution_count": 5,
   "metadata": {
    "collapsed": true
   },
   "outputs": [],
   "source": [
    "def get_connection():\n",
    "    conn = {}\n",
    "    with open('../db_connection/db_config_2.json') as my_file:\n",
    "        db_conf = json.load(my_file)\n",
    "    conn_str = \"host={} dbname={} user={} password={}\".format(\n",
    "                db_conf['host'], db_conf['database'], \n",
    "                db_conf['user'], db_conf['passw'])\n",
    "    try:\n",
    "        conn = psycopg2.connect(conn_str)\n",
    "        return conn\n",
    "    except:\n",
    "        return 'error in connecting to database'"
   ]
  },
  {
   "cell_type": "code",
   "execution_count": null,
   "metadata": {
    "collapsed": true
   },
   "outputs": [],
   "source": []
  },
  {
   "cell_type": "code",
   "execution_count": null,
   "metadata": {
    "collapsed": true
   },
   "outputs": [],
   "source": []
  }
 ],
 "metadata": {
  "kernelspec": {
   "display_name": "Python 2",
   "language": "python",
   "name": "python2"
  },
  "language_info": {
   "codemirror_mode": {
    "name": "ipython",
    "version": 2
   },
   "file_extension": ".py",
   "mimetype": "text/x-python",
   "name": "python",
   "nbconvert_exporter": "python",
   "pygments_lexer": "ipython2",
   "version": "2.7.13"
  }
 },
 "nbformat": 4,
 "nbformat_minor": 2
}
