{
 "cells": [
  {
   "cell_type": "code",
   "execution_count": 21,
   "metadata": {
    "collapsed": true
   },
   "outputs": [],
   "source": [
    "#import needed libraries\n",
    "import pandas as pd\n",
    "import numpy as np\n",
    "from pandas import DataFrame, Series\n",
    "import json\n",
    "import psycopg2\n",
    "import os\n"
   ]
  },
  {
   "cell_type": "code",
   "execution_count": 22,
   "metadata": {
    "collapsed": true
   },
   "outputs": [],
   "source": [
    "def get_connection():\n",
    "    conn = {}\n",
    "    with open('../db_connection/db_config.json') as my_file:\n",
    "        db_conf = json.load(my_file)\n",
    "    conn_str = \"host={} dbname={} user={} password={}\".format(\n",
    "                db_conf['host'], db_conf['database'], \n",
    "                db_conf['user'], db_conf['passw'])\n",
    "    try:\n",
    "        conn = psycopg2.connect(conn_str)\n",
    "        return conn\n",
    "    except Exception, e:\n",
    "        return str(e)"
   ]
  },
  {
   "cell_type": "code",
   "execution_count": 23,
   "metadata": {},
   "outputs": [
    {
     "data": {
      "text/plain": [
       "'FATAL:  could not open file \"base/16387/2601\": Read-only file system\\n'"
      ]
     },
     "execution_count": 23,
     "metadata": {},
     "output_type": "execute_result"
    }
   ],
   "source": [
    "get_connection()"
   ]
  },
  {
   "cell_type": "raw",
   "metadata": {
    "collapsed": true
   },
   "source": []
  },
  {
   "cell_type": "code",
   "execution_count": null,
   "metadata": {
    "collapsed": true
   },
   "outputs": [],
   "source": []
  },
  {
   "cell_type": "code",
   "execution_count": 3,
   "metadata": {
    "collapsed": true
   },
   "outputs": [],
   "source": [
    "#get all facilities\n",
    "def get_all_facilities():\n",
    "    conn = get_connection()\n",
    "    all_facilities = DataFrame()\n",
    "    \n",
    "    for chunk in pd.read_sql('SELECT * FROM facilities_facility', con=conn, chunksize=10000):\n",
    "        all_facilities = all_facilities.append(chunk)\n",
    "    \n",
    "    return all_facilities\n"
   ]
  },
  {
   "cell_type": "code",
   "execution_count": null,
   "metadata": {
    "collapsed": true
   },
   "outputs": [],
   "source": []
  },
  {
   "cell_type": "code",
   "execution_count": 19,
   "metadata": {
    "collapsed": true
   },
   "outputs": [],
   "source": [
    "#get a facility given its id/code\n",
    "def get_facility_by_id(facility_id):\n",
    "    conn = get_connection()\n",
    "    all_facilities = DataFrame()\n",
    "    \n",
    "    for chunk in pd.read_sql('SELECT * FROM facilities_facility', con=conn, chunksize=10000):\n",
    "        all_facilities = all_facilities.append(chunk)\n",
    "    \n",
    "    return all_facilities[all_facilities['id'] == facility_id]"
   ]
  },
  {
   "cell_type": "code",
   "execution_count": 20,
   "metadata": {
    "collapsed": true
   },
   "outputs": [],
   "source": [
    "all_facilities = get_facility_by_id('28dc6200-882b-4754-b82e-320d2ecc96c7')\n"
   ]
  },
  {
   "cell_type": "code",
   "execution_count": null,
   "metadata": {
    "collapsed": true
   },
   "outputs": [],
   "source": []
  },
  {
   "cell_type": "code",
   "execution_count": null,
   "metadata": {
    "collapsed": true
   },
   "outputs": [],
   "source": []
  },
  {
   "cell_type": "code",
   "execution_count": null,
   "metadata": {
    "collapsed": true
   },
   "outputs": [],
   "source": [
    "#get a facility given its id/code\n",
    "def get_facility_dataelements(facility_id):\n",
    "    conn = get_connection()\n",
    "    facility = get_facility_by_id(facility_id)\n",
    "    \n",
    "    all_dataelements = DataFrame()\n",
    "    \n",
    "    for chunk in pd.read_sql('SELECT * FROM dim_dhis_dataelement', con=conn, chunksize=10000):\n",
    "        all_dataelements = all_dataelements.append(chunk)\n",
    "    \n",
    "    return all_facilities[all_facilities['id'] == facility_id]"
   ]
  }
 ],
 "metadata": {
  "kernelspec": {
   "display_name": "Python 2",
   "language": "python",
   "name": "python2"
  },
  "language_info": {
   "codemirror_mode": {
    "name": "ipython",
    "version": 2
   },
   "file_extension": ".py",
   "mimetype": "text/x-python",
   "name": "python",
   "nbconvert_exporter": "python",
   "pygments_lexer": "ipython2",
   "version": "2.7.13"
  }
 },
 "nbformat": 4,
 "nbformat_minor": 2
}
