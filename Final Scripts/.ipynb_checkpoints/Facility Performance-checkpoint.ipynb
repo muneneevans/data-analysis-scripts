{
 "cells": [
  {
   "cell_type": "code",
   "execution_count": 1,
   "metadata": {
    "collapsed": true
   },
   "outputs": [],
   "source": [
    "import numpy as np\n",
    "import pandas as pd\n",
    "from pandas import DataFrame, Series\n",
    "import json\n",
    "import os\n",
    "import psycopg2"
   ]
  },
  {
   "cell_type": "code",
   "execution_count": null,
   "metadata": {
    "collapsed": true
   },
   "outputs": [],
   "source": []
  },
  {
   "cell_type": "code",
   "execution_count": null,
   "metadata": {
    "collapsed": true
   },
   "outputs": [],
   "source": []
  },
  {
   "cell_type": "code",
   "execution_count": null,
   "metadata": {
    "collapsed": true
   },
   "outputs": [],
   "source": []
  },
  {
   "cell_type": "code",
   "execution_count": 2,
   "metadata": {
    "collapsed": true
   },
   "outputs": [],
   "source": [
    "def get_connection():\n",
    "    conn = {}\n",
    "    with open('../db_connection/db_config.json') as my_file:\n",
    "        db_conf = json.load(my_file)\n",
    "    conn_str = \"host={} dbname={} user={} password={}\".format(\n",
    "                db_conf['host'], db_conf['database'], \n",
    "                db_conf['user'], db_conf['passw'])\n",
    "    try:\n",
    "        conn = psycopg2.connect(conn_str)\n",
    "        return conn\n",
    "    except:\n",
    "        return 'error in connecting to database'"
   ]
  },
  {
   "cell_type": "code",
   "execution_count": 3,
   "metadata": {},
   "outputs": [
    {
     "data": {
      "text/plain": [
       "<connection object at 0x7f2bbf618b48; dsn: 'host=41.89.94.68 dbname=mohdsl user=boa_user password=xxxxxxxxxxxxxxxxx', closed: 0>"
      ]
     },
     "execution_count": 3,
     "metadata": {},
     "output_type": "execute_result"
    }
   ],
   "source": [
    "get_connection()"
   ]
  },
  {
   "cell_type": "code",
   "execution_count": null,
   "metadata": {
    "collapsed": true
   },
   "outputs": [],
   "source": []
  },
  {
   "cell_type": "code",
   "execution_count": null,
   "metadata": {
    "collapsed": true
   },
   "outputs": [],
   "source": []
  },
  {
   "cell_type": "code",
   "execution_count": null,
   "metadata": {
    "collapsed": true
   },
   "outputs": [],
   "source": []
  },
  {
   "cell_type": "code",
   "execution_count": 4,
   "metadata": {
    "collapsed": true
   },
   "outputs": [],
   "source": [
    "#get a specific facility\n",
    "def get_facility_by_id(facility_id):\n",
    "    conn = get_connection()\n",
    "    all_facilities = pd.DataFrame()\n",
    "    query = \"SELECT * FROM facilities_facility WHERE id = '%s' ;\" %(facility_id)    \n",
    "    for chunk in pd.read_sql(query, con=conn, chunksize=10000):\n",
    "        all_facilities = all_facilities.append(chunk)\n",
    "\n",
    "    \n",
    "    return all_facilities"
   ]
  },
  {
   "cell_type": "code",
   "execution_count": 5,
   "metadata": {},
   "outputs": [
    {
     "data": {
      "text/html": [
       "<div>\n",
       "<style>\n",
       "    .dataframe thead tr:only-child th {\n",
       "        text-align: right;\n",
       "    }\n",
       "\n",
       "    .dataframe thead th {\n",
       "        text-align: left;\n",
       "    }\n",
       "\n",
       "    .dataframe tbody tr th {\n",
       "        vertical-align: top;\n",
       "    }\n",
       "</style>\n",
       "<table border=\"1\" class=\"dataframe\">\n",
       "  <thead>\n",
       "    <tr style=\"text-align: right;\">\n",
       "      <th></th>\n",
       "      <th>id</th>\n",
       "      <th>deleted</th>\n",
       "      <th>active</th>\n",
       "      <th>name</th>\n",
       "      <th>official_name</th>\n",
       "      <th>code</th>\n",
       "      <th>registration_number</th>\n",
       "      <th>abbreviation</th>\n",
       "      <th>description</th>\n",
       "      <th>number_of_beds</th>\n",
       "      <th>...</th>\n",
       "      <th>_effectivefrom</th>\n",
       "      <th>_effectiveto</th>\n",
       "      <th>ward_id</th>\n",
       "      <th>facility_type_id</th>\n",
       "      <th>keph_level_id</th>\n",
       "      <th>owner_id</th>\n",
       "      <th>parent_id</th>\n",
       "      <th>sub_county_id</th>\n",
       "      <th>town_id</th>\n",
       "      <th>facility_sk</th>\n",
       "    </tr>\n",
       "  </thead>\n",
       "  <tbody>\n",
       "    <tr>\n",
       "      <th>0</th>\n",
       "      <td>2e21b2de-7c5b-4db7-bb1d-26930af9274d</td>\n",
       "      <td>False</td>\n",
       "      <td>True</td>\n",
       "      <td>Kenyatta National Hospital</td>\n",
       "      <td>Kenyatta National Hospital</td>\n",
       "      <td>13023</td>\n",
       "      <td>None</td>\n",
       "      <td>None</td>\n",
       "      <td>None</td>\n",
       "      <td>1455</td>\n",
       "      <td>...</td>\n",
       "      <td>1900-01-01</td>\n",
       "      <td>2199-12-31</td>\n",
       "      <td>e86bec61-9d3f-4825-b23a-87219e8ecce4</td>\n",
       "      <td>aa32be23-693e-45fb-bc3f-0b24d6190de3</td>\n",
       "      <td>169f6176-8166-4d51-9b7c-e5d5fee1e9a1</td>\n",
       "      <td>1b0b8814-a3d0-4e76-bfc9-4dea62a58b60</td>\n",
       "      <td>None</td>\n",
       "      <td>None</td>\n",
       "      <td>4763f1a1-aed4-4678-a1b2-0798935f4cf6</td>\n",
       "      <td>1471</td>\n",
       "    </tr>\n",
       "  </tbody>\n",
       "</table>\n",
       "<p>1 rows × 48 columns</p>\n",
       "</div>"
      ],
      "text/plain": [
       "                                     id  deleted  active  \\\n",
       "0  2e21b2de-7c5b-4db7-bb1d-26930af9274d    False    True   \n",
       "\n",
       "                         name                official_name   code  \\\n",
       "0  Kenyatta National Hospital  Kenyatta National Hospital   13023   \n",
       "\n",
       "  registration_number abbreviation description  number_of_beds     ...       \\\n",
       "0                None         None        None            1455     ...        \n",
       "\n",
       "   _effectivefrom  _effectiveto                               ward_id  \\\n",
       "0      1900-01-01    2199-12-31  e86bec61-9d3f-4825-b23a-87219e8ecce4   \n",
       "\n",
       "                       facility_type_id                         keph_level_id  \\\n",
       "0  aa32be23-693e-45fb-bc3f-0b24d6190de3  169f6176-8166-4d51-9b7c-e5d5fee1e9a1   \n",
       "\n",
       "                               owner_id  parent_id sub_county_id  \\\n",
       "0  1b0b8814-a3d0-4e76-bfc9-4dea62a58b60       None          None   \n",
       "\n",
       "                                town_id  facility_sk  \n",
       "0  4763f1a1-aed4-4678-a1b2-0798935f4cf6         1471  \n",
       "\n",
       "[1 rows x 48 columns]"
      ]
     },
     "execution_count": 5,
     "metadata": {},
     "output_type": "execute_result"
    }
   ],
   "source": [
    "get_facility_by_id('2e21b2de-7c5b-4db7-bb1d-26930af9274d')"
   ]
  },
  {
   "cell_type": "code",
   "execution_count": null,
   "metadata": {
    "collapsed": true
   },
   "outputs": [],
   "source": []
  },
  {
   "cell_type": "code",
   "execution_count": null,
   "metadata": {
    "collapsed": true
   },
   "outputs": [],
   "source": []
  },
  {
   "cell_type": "code",
   "execution_count": null,
   "metadata": {
    "collapsed": true
   },
   "outputs": [],
   "source": []
  },
  {
   "cell_type": "code",
   "execution_count": null,
   "metadata": {
    "collapsed": true
   },
   "outputs": [],
   "source": []
  },
  {
   "cell_type": "code",
   "execution_count": null,
   "metadata": {
    "collapsed": true
   },
   "outputs": [],
   "source": []
  },
  {
   "cell_type": "code",
   "execution_count": 6,
   "metadata": {
    "collapsed": true
   },
   "outputs": [],
   "source": [
    "#get a specific county\n",
    "def get_organization_units():\n",
    "    conn = get_connection()\n",
    "    all_orgunits = pd.DataFrame()\n",
    "    for chunk in pd.read_sql('SELECT * FROM dim_dhis_organisationunit', con=conn, chunksize=10000):\n",
    "        all_orgunits = all_orgunits.append(chunk)\n",
    "    \n",
    "    return all_orgunits"
   ]
  },
  {
   "cell_type": "code",
   "execution_count": 7,
   "metadata": {
    "scrolled": true
   },
   "outputs": [
    {
     "data": {
      "text/html": [
       "<div>\n",
       "<style>\n",
       "    .dataframe thead tr:only-child th {\n",
       "        text-align: right;\n",
       "    }\n",
       "\n",
       "    .dataframe thead th {\n",
       "        text-align: left;\n",
       "    }\n",
       "\n",
       "    .dataframe tbody tr th {\n",
       "        vertical-align: top;\n",
       "    }\n",
       "</style>\n",
       "<table border=\"1\" class=\"dataframe\">\n",
       "  <thead>\n",
       "    <tr style=\"text-align: right;\">\n",
       "      <th></th>\n",
       "      <th>code</th>\n",
       "    </tr>\n",
       "  </thead>\n",
       "  <tbody>\n",
       "    <tr>\n",
       "      <th>0</th>\n",
       "      <td>None</td>\n",
       "    </tr>\n",
       "    <tr>\n",
       "      <th>1</th>\n",
       "      <td>None</td>\n",
       "    </tr>\n",
       "    <tr>\n",
       "      <th>2</th>\n",
       "      <td>None</td>\n",
       "    </tr>\n",
       "    <tr>\n",
       "      <th>3</th>\n",
       "      <td>None</td>\n",
       "    </tr>\n",
       "    <tr>\n",
       "      <th>4</th>\n",
       "      <td>None</td>\n",
       "    </tr>\n",
       "    <tr>\n",
       "      <th>5</th>\n",
       "      <td>None</td>\n",
       "    </tr>\n",
       "    <tr>\n",
       "      <th>6</th>\n",
       "      <td>20550</td>\n",
       "    </tr>\n",
       "    <tr>\n",
       "      <th>7</th>\n",
       "      <td>None</td>\n",
       "    </tr>\n",
       "    <tr>\n",
       "      <th>8</th>\n",
       "      <td>None</td>\n",
       "    </tr>\n",
       "    <tr>\n",
       "      <th>9</th>\n",
       "      <td>None</td>\n",
       "    </tr>\n",
       "    <tr>\n",
       "      <th>10</th>\n",
       "      <td>None</td>\n",
       "    </tr>\n",
       "    <tr>\n",
       "      <th>11</th>\n",
       "      <td>None</td>\n",
       "    </tr>\n",
       "    <tr>\n",
       "      <th>12</th>\n",
       "      <td>None</td>\n",
       "    </tr>\n",
       "    <tr>\n",
       "      <th>13</th>\n",
       "      <td>None</td>\n",
       "    </tr>\n",
       "    <tr>\n",
       "      <th>14</th>\n",
       "      <td>None</td>\n",
       "    </tr>\n",
       "    <tr>\n",
       "      <th>15</th>\n",
       "      <td>None</td>\n",
       "    </tr>\n",
       "    <tr>\n",
       "      <th>16</th>\n",
       "      <td>None</td>\n",
       "    </tr>\n",
       "    <tr>\n",
       "      <th>17</th>\n",
       "      <td>None</td>\n",
       "    </tr>\n",
       "    <tr>\n",
       "      <th>18</th>\n",
       "      <td>None</td>\n",
       "    </tr>\n",
       "    <tr>\n",
       "      <th>19</th>\n",
       "      <td>None</td>\n",
       "    </tr>\n",
       "    <tr>\n",
       "      <th>20</th>\n",
       "      <td>None</td>\n",
       "    </tr>\n",
       "    <tr>\n",
       "      <th>21</th>\n",
       "      <td>None</td>\n",
       "    </tr>\n",
       "    <tr>\n",
       "      <th>22</th>\n",
       "      <td>None</td>\n",
       "    </tr>\n",
       "    <tr>\n",
       "      <th>23</th>\n",
       "      <td>None</td>\n",
       "    </tr>\n",
       "    <tr>\n",
       "      <th>24</th>\n",
       "      <td>None</td>\n",
       "    </tr>\n",
       "    <tr>\n",
       "      <th>25</th>\n",
       "      <td>None</td>\n",
       "    </tr>\n",
       "    <tr>\n",
       "      <th>26</th>\n",
       "      <td>None</td>\n",
       "    </tr>\n",
       "    <tr>\n",
       "      <th>27</th>\n",
       "      <td>None</td>\n",
       "    </tr>\n",
       "    <tr>\n",
       "      <th>28</th>\n",
       "      <td>None</td>\n",
       "    </tr>\n",
       "    <tr>\n",
       "      <th>29</th>\n",
       "      <td>None</td>\n",
       "    </tr>\n",
       "    <tr>\n",
       "      <th>...</th>\n",
       "      <td>...</td>\n",
       "    </tr>\n",
       "    <tr>\n",
       "      <th>3852</th>\n",
       "      <td>15303</td>\n",
       "    </tr>\n",
       "    <tr>\n",
       "      <th>3853</th>\n",
       "      <td>15096</td>\n",
       "    </tr>\n",
       "    <tr>\n",
       "      <th>3854</th>\n",
       "      <td>15081</td>\n",
       "    </tr>\n",
       "    <tr>\n",
       "      <th>3855</th>\n",
       "      <td>13401</td>\n",
       "    </tr>\n",
       "    <tr>\n",
       "      <th>3856</th>\n",
       "      <td>11480</td>\n",
       "    </tr>\n",
       "    <tr>\n",
       "      <th>3857</th>\n",
       "      <td>14481</td>\n",
       "    </tr>\n",
       "    <tr>\n",
       "      <th>3858</th>\n",
       "      <td>14593</td>\n",
       "    </tr>\n",
       "    <tr>\n",
       "      <th>3859</th>\n",
       "      <td>14654</td>\n",
       "    </tr>\n",
       "    <tr>\n",
       "      <th>3860</th>\n",
       "      <td>15058</td>\n",
       "    </tr>\n",
       "    <tr>\n",
       "      <th>3861</th>\n",
       "      <td>15557</td>\n",
       "    </tr>\n",
       "    <tr>\n",
       "      <th>3862</th>\n",
       "      <td>15579</td>\n",
       "    </tr>\n",
       "    <tr>\n",
       "      <th>3863</th>\n",
       "      <td>15781</td>\n",
       "    </tr>\n",
       "    <tr>\n",
       "      <th>3864</th>\n",
       "      <td>14974</td>\n",
       "    </tr>\n",
       "    <tr>\n",
       "      <th>3865</th>\n",
       "      <td>18098</td>\n",
       "    </tr>\n",
       "    <tr>\n",
       "      <th>3866</th>\n",
       "      <td>15271</td>\n",
       "    </tr>\n",
       "    <tr>\n",
       "      <th>3867</th>\n",
       "      <td>15291</td>\n",
       "    </tr>\n",
       "    <tr>\n",
       "      <th>3868</th>\n",
       "      <td>14209</td>\n",
       "    </tr>\n",
       "    <tr>\n",
       "      <th>3869</th>\n",
       "      <td>15059</td>\n",
       "    </tr>\n",
       "    <tr>\n",
       "      <th>3870</th>\n",
       "      <td>12087</td>\n",
       "    </tr>\n",
       "    <tr>\n",
       "      <th>3871</th>\n",
       "      <td>14540</td>\n",
       "    </tr>\n",
       "    <tr>\n",
       "      <th>3872</th>\n",
       "      <td>14854</td>\n",
       "    </tr>\n",
       "    <tr>\n",
       "      <th>3873</th>\n",
       "      <td>14996</td>\n",
       "    </tr>\n",
       "    <tr>\n",
       "      <th>3874</th>\n",
       "      <td>20192</td>\n",
       "    </tr>\n",
       "    <tr>\n",
       "      <th>3875</th>\n",
       "      <td>14643</td>\n",
       "    </tr>\n",
       "    <tr>\n",
       "      <th>3876</th>\n",
       "      <td>15054</td>\n",
       "    </tr>\n",
       "    <tr>\n",
       "      <th>3877</th>\n",
       "      <td>15186</td>\n",
       "    </tr>\n",
       "    <tr>\n",
       "      <th>3878</th>\n",
       "      <td>14636</td>\n",
       "    </tr>\n",
       "    <tr>\n",
       "      <th>3879</th>\n",
       "      <td>15092</td>\n",
       "    </tr>\n",
       "    <tr>\n",
       "      <th>3880</th>\n",
       "      <td>14975</td>\n",
       "    </tr>\n",
       "    <tr>\n",
       "      <th>3881</th>\n",
       "      <td>15731</td>\n",
       "    </tr>\n",
       "  </tbody>\n",
       "</table>\n",
       "<p>13882 rows × 1 columns</p>\n",
       "</div>"
      ],
      "text/plain": [
       "       code\n",
       "0      None\n",
       "1      None\n",
       "2      None\n",
       "3      None\n",
       "4      None\n",
       "5      None\n",
       "6     20550\n",
       "7      None\n",
       "8      None\n",
       "9      None\n",
       "10     None\n",
       "11     None\n",
       "12     None\n",
       "13     None\n",
       "14     None\n",
       "15     None\n",
       "16     None\n",
       "17     None\n",
       "18     None\n",
       "19     None\n",
       "20     None\n",
       "21     None\n",
       "22     None\n",
       "23     None\n",
       "24     None\n",
       "25     None\n",
       "26     None\n",
       "27     None\n",
       "28     None\n",
       "29     None\n",
       "...     ...\n",
       "3852  15303\n",
       "3853  15096\n",
       "3854  15081\n",
       "3855  13401\n",
       "3856  11480\n",
       "3857  14481\n",
       "3858  14593\n",
       "3859  14654\n",
       "3860  15058\n",
       "3861  15557\n",
       "3862  15579\n",
       "3863  15781\n",
       "3864  14974\n",
       "3865  18098\n",
       "3866  15271\n",
       "3867  15291\n",
       "3868  14209\n",
       "3869  15059\n",
       "3870  12087\n",
       "3871  14540\n",
       "3872  14854\n",
       "3873  14996\n",
       "3874  20192\n",
       "3875  14643\n",
       "3876  15054\n",
       "3877  15186\n",
       "3878  14636\n",
       "3879  15092\n",
       "3880  14975\n",
       "3881  15731\n",
       "\n",
       "[13882 rows x 1 columns]"
      ]
     },
     "execution_count": 7,
     "metadata": {},
     "output_type": "execute_result"
    }
   ],
   "source": [
    "get_organization_units()[['code']]"
   ]
  },
  {
   "cell_type": "code",
   "execution_count": null,
   "metadata": {
    "collapsed": true
   },
   "outputs": [],
   "source": []
  },
  {
   "cell_type": "code",
   "execution_count": null,
   "metadata": {
    "collapsed": true
   },
   "outputs": [],
   "source": []
  },
  {
   "cell_type": "code",
   "execution_count": null,
   "metadata": {
    "collapsed": true
   },
   "outputs": [],
   "source": []
  },
  {
   "cell_type": "code",
   "execution_count": 15,
   "metadata": {
    "collapsed": true
   },
   "outputs": [],
   "source": [
    "def get_facility_org_units(facility_id):\n",
    "    #get the facility    \n",
    "    facility = get_facility_by_id(facility_id)\n",
    "    facility['code'] = facility['code'].astype(str)\n",
    "    \n",
    "    #get all org units\n",
    "    all_orgunits = get_organization_units()\n",
    "    all_orgunits['code'] = all_orgunits['code'].astype(str)\n",
    "    facility_orgunits = pd.merge(all_orgunits, facility, on='code')\n",
    "    \n",
    "    return facility_orgunits"
   ]
  },
  {
   "cell_type": "code",
   "execution_count": null,
   "metadata": {
    "collapsed": true
   },
   "outputs": [],
   "source": []
  },
  {
   "cell_type": "code",
   "execution_count": 9,
   "metadata": {},
   "outputs": [
    {
     "data": {
      "text/plain": [
       "0    33707\n",
       "Name: organisationunitid, dtype: int64"
      ]
     },
     "execution_count": 9,
     "metadata": {},
     "output_type": "execute_result"
    }
   ],
   "source": [
    "get_facility_org_units('2e21b2de-7c5b-4db7-bb1d-26930af9274d')[['organisationunitid'][0]]"
   ]
  },
  {
   "cell_type": "code",
   "execution_count": null,
   "metadata": {
    "collapsed": true
   },
   "outputs": [],
   "source": []
  },
  {
   "cell_type": "code",
   "execution_count": null,
   "metadata": {
    "collapsed": true
   },
   "outputs": [],
   "source": []
  },
  {
   "cell_type": "code",
   "execution_count": null,
   "metadata": {
    "collapsed": true
   },
   "outputs": [],
   "source": []
  },
  {
   "cell_type": "code",
   "execution_count": 10,
   "metadata": {
    "collapsed": true
   },
   "outputs": [],
   "source": [
    "def get_data_element_by_id(data_element_id):\n",
    "    conn = get_connection()\n",
    "    all_data_elements = pd.DataFrame()\n",
    "    query = \"SELECT * FROM dim_dhis_dataelement WHERE dataelementid = %s ;\" %(data_element_id)\n",
    "    for chunk in pd.read_sql(query, con=conn, chunksize=10000):\n",
    "        all_data_elements = all_data_elements.append(chunk)\n",
    "\n",
    "    \n",
    "    return all_data_elements"
   ]
  },
  {
   "cell_type": "code",
   "execution_count": 11,
   "metadata": {},
   "outputs": [
    {
     "data": {
      "text/html": [
       "<div>\n",
       "<style>\n",
       "    .dataframe thead tr:only-child th {\n",
       "        text-align: right;\n",
       "    }\n",
       "\n",
       "    .dataframe thead th {\n",
       "        text-align: left;\n",
       "    }\n",
       "\n",
       "    .dataframe tbody tr th {\n",
       "        vertical-align: top;\n",
       "    }\n",
       "</style>\n",
       "<table border=\"1\" class=\"dataframe\">\n",
       "  <thead>\n",
       "    <tr style=\"text-align: right;\">\n",
       "      <th></th>\n",
       "      <th>dataelementid</th>\n",
       "      <th>dataelementname</th>\n",
       "      <th>shortname</th>\n",
       "      <th>code</th>\n",
       "      <th>description</th>\n",
       "      <th>valuetype</th>\n",
       "      <th>domaintype</th>\n",
       "      <th>aggregationtype</th>\n",
       "      <th>zeroissignificant</th>\n",
       "      <th>numbertype</th>\n",
       "      <th>uid</th>\n",
       "      <th>_datecreated</th>\n",
       "      <th>_eventexecutionkey</th>\n",
       "      <th>_lastaction</th>\n",
       "      <th>_mergekey</th>\n",
       "      <th>_sourcesystemcode</th>\n",
       "    </tr>\n",
       "  </thead>\n",
       "  <tbody>\n",
       "    <tr>\n",
       "      <th>0</th>\n",
       "      <td>5154416</td>\n",
       "      <td>MOH 706_Malaria Rapid DiagnosticTests</td>\n",
       "      <td>MOH 706_Malaria Rapid DiagnosticTests</td>\n",
       "      <td>None</td>\n",
       "      <td>Rapid Diagnostic Tests workload and results fo...</td>\n",
       "      <td>int</td>\n",
       "      <td>AGGREGATE</td>\n",
       "      <td>sum</td>\n",
       "      <td>False</td>\n",
       "      <td>number</td>\n",
       "      <td>vORT3FUaS6P</td>\n",
       "      <td>None</td>\n",
       "      <td>None</td>\n",
       "      <td>None</td>\n",
       "      <td>None</td>\n",
       "      <td>None</td>\n",
       "    </tr>\n",
       "  </tbody>\n",
       "</table>\n",
       "</div>"
      ],
      "text/plain": [
       "   dataelementid                        dataelementname  \\\n",
       "0        5154416  MOH 706_Malaria Rapid DiagnosticTests   \n",
       "\n",
       "                               shortname  code  \\\n",
       "0  MOH 706_Malaria Rapid DiagnosticTests  None   \n",
       "\n",
       "                                         description valuetype domaintype  \\\n",
       "0  Rapid Diagnostic Tests workload and results fo...       int  AGGREGATE   \n",
       "\n",
       "  aggregationtype  zeroissignificant numbertype          uid _datecreated  \\\n",
       "0             sum              False     number  vORT3FUaS6P         None   \n",
       "\n",
       "  _eventexecutionkey _lastaction _mergekey _sourcesystemcode  \n",
       "0               None        None      None              None  "
      ]
     },
     "execution_count": 11,
     "metadata": {},
     "output_type": "execute_result"
    }
   ],
   "source": [
    "get_data_element_by_id(5154416)"
   ]
  },
  {
   "cell_type": "code",
   "execution_count": null,
   "metadata": {
    "collapsed": true
   },
   "outputs": [],
   "source": []
  },
  {
   "cell_type": "code",
   "execution_count": null,
   "metadata": {
    "collapsed": true
   },
   "outputs": [],
   "source": []
  },
  {
   "cell_type": "code",
   "execution_count": null,
   "metadata": {
    "collapsed": true
   },
   "outputs": [],
   "source": []
  },
  {
   "cell_type": "code",
   "execution_count": 12,
   "metadata": {
    "collapsed": true
   },
   "outputs": [],
   "source": [
    "def get_facility_dataelement_datavalues(dataelement_id, facility_id):\n",
    "    conn = get_connection()\n",
    "    orgnaization_unit = get_facility_org_units(facility_id)\n",
    "    dataelement = get_data_element_by_id(dataelement_id)\n",
    "    all_datavalues = DataFrame()\n",
    "    \n",
    "    query = \"SELECT * FROM fact_dhis_datavalue WHERE dataelementid = %s AND sourceid = %s ;\" %(dataelement_id, orgnaization_unit['organisationunitid'][0])\n",
    "    for chunk in pd.read_sql(query, con=conn , chunksize=10000):\n",
    "        all_datavalues = all_datavalues.append(chunk)\n",
    "    \n",
    "    \n",
    "    return all_datavalues"
   ]
  },
  {
   "cell_type": "code",
   "execution_count": 13,
   "metadata": {
    "collapsed": true
   },
   "outputs": [],
   "source": [
    "values = get_facility_dataelement_datavalues(5154416, 'ab3ad01b-9716-4f7c-a4d7-5f69b12b44cb')"
   ]
  },
  {
   "cell_type": "code",
   "execution_count": 14,
   "metadata": {},
   "outputs": [
    {
     "data": {
      "text/html": [
       "<div>\n",
       "<style>\n",
       "    .dataframe thead tr:only-child th {\n",
       "        text-align: right;\n",
       "    }\n",
       "\n",
       "    .dataframe thead th {\n",
       "        text-align: left;\n",
       "    }\n",
       "\n",
       "    .dataframe tbody tr th {\n",
       "        vertical-align: top;\n",
       "    }\n",
       "</style>\n",
       "<table border=\"1\" class=\"dataframe\">\n",
       "  <thead>\n",
       "    <tr style=\"text-align: right;\">\n",
       "      <th></th>\n",
       "      <th>dataelementid</th>\n",
       "      <th>periodid</th>\n",
       "      <th>sourceid</th>\n",
       "      <th>categoryoptioncomboid</th>\n",
       "      <th>attributeoptioncomboid</th>\n",
       "      <th>value</th>\n",
       "      <th>storedby</th>\n",
       "      <th>lastupdated</th>\n",
       "      <th>comment</th>\n",
       "      <th>followup</th>\n",
       "      <th>created</th>\n",
       "      <th>_datecreated</th>\n",
       "      <th>_eventexecutionkey</th>\n",
       "      <th>_lastaction</th>\n",
       "      <th>_mergekey</th>\n",
       "      <th>_sourcesystemcode</th>\n",
       "    </tr>\n",
       "  </thead>\n",
       "  <tbody>\n",
       "    <tr>\n",
       "      <th>0</th>\n",
       "      <td>5154416</td>\n",
       "      <td>2505073</td>\n",
       "      <td>24708</td>\n",
       "      <td>5154243</td>\n",
       "      <td>15</td>\n",
       "      <td>59</td>\n",
       "      <td>Tsigo</td>\n",
       "      <td>2015-05-08 16:02:11.170</td>\n",
       "      <td>None</td>\n",
       "      <td>False</td>\n",
       "      <td>2015-05-08 16:02:11.171</td>\n",
       "      <td>2015-12-17</td>\n",
       "      <td>None</td>\n",
       "      <td>None</td>\n",
       "      <td>None</td>\n",
       "      <td>None</td>\n",
       "    </tr>\n",
       "    <tr>\n",
       "      <th>1</th>\n",
       "      <td>5154416</td>\n",
       "      <td>2505073</td>\n",
       "      <td>24708</td>\n",
       "      <td>5154302</td>\n",
       "      <td>15</td>\n",
       "      <td>923</td>\n",
       "      <td>Tsigo</td>\n",
       "      <td>2015-05-08 16:01:51.330</td>\n",
       "      <td>None</td>\n",
       "      <td>False</td>\n",
       "      <td>2015-05-08 16:01:51.331</td>\n",
       "      <td>2015-12-17</td>\n",
       "      <td>None</td>\n",
       "      <td>None</td>\n",
       "      <td>None</td>\n",
       "      <td>None</td>\n",
       "    </tr>\n",
       "    <tr>\n",
       "      <th>2</th>\n",
       "      <td>5154416</td>\n",
       "      <td>2506122</td>\n",
       "      <td>24708</td>\n",
       "      <td>5154243</td>\n",
       "      <td>15</td>\n",
       "      <td>215</td>\n",
       "      <td>Tsigo</td>\n",
       "      <td>2015-04-13 11:32:37.746</td>\n",
       "      <td>None</td>\n",
       "      <td>False</td>\n",
       "      <td>2015-04-13 11:32:37.747</td>\n",
       "      <td>2015-12-17</td>\n",
       "      <td>None</td>\n",
       "      <td>None</td>\n",
       "      <td>None</td>\n",
       "      <td>None</td>\n",
       "    </tr>\n",
       "    <tr>\n",
       "      <th>3</th>\n",
       "      <td>5154416</td>\n",
       "      <td>2506122</td>\n",
       "      <td>24708</td>\n",
       "      <td>5154302</td>\n",
       "      <td>15</td>\n",
       "      <td>942</td>\n",
       "      <td>Tsigo</td>\n",
       "      <td>2015-04-13 11:32:19.001</td>\n",
       "      <td>None</td>\n",
       "      <td>False</td>\n",
       "      <td>2015-04-13 11:32:19.003</td>\n",
       "      <td>2015-12-17</td>\n",
       "      <td>None</td>\n",
       "      <td>None</td>\n",
       "      <td>None</td>\n",
       "      <td>None</td>\n",
       "    </tr>\n",
       "  </tbody>\n",
       "</table>\n",
       "</div>"
      ],
      "text/plain": [
       "   dataelementid  periodid  sourceid  categoryoptioncomboid  \\\n",
       "0        5154416   2505073     24708                5154243   \n",
       "1        5154416   2505073     24708                5154302   \n",
       "2        5154416   2506122     24708                5154243   \n",
       "3        5154416   2506122     24708                5154302   \n",
       "\n",
       "   attributeoptioncomboid value storedby             lastupdated comment  \\\n",
       "0                      15    59    Tsigo 2015-05-08 16:02:11.170    None   \n",
       "1                      15   923    Tsigo 2015-05-08 16:01:51.330    None   \n",
       "2                      15   215    Tsigo 2015-04-13 11:32:37.746    None   \n",
       "3                      15   942    Tsigo 2015-04-13 11:32:19.001    None   \n",
       "\n",
       "   followup                 created _datecreated _eventexecutionkey  \\\n",
       "0     False 2015-05-08 16:02:11.171   2015-12-17               None   \n",
       "1     False 2015-05-08 16:01:51.331   2015-12-17               None   \n",
       "2     False 2015-04-13 11:32:37.747   2015-12-17               None   \n",
       "3     False 2015-04-13 11:32:19.003   2015-12-17               None   \n",
       "\n",
       "  _lastaction _mergekey _sourcesystemcode  \n",
       "0        None      None              None  \n",
       "1        None      None              None  \n",
       "2        None      None              None  \n",
       "3        None      None              None  "
      ]
     },
     "execution_count": 14,
     "metadata": {},
     "output_type": "execute_result"
    }
   ],
   "source": [
    "values"
   ]
  },
  {
   "cell_type": "code",
   "execution_count": null,
   "metadata": {
    "collapsed": true
   },
   "outputs": [],
   "source": []
  },
  {
   "cell_type": "code",
   "execution_count": 14,
   "metadata": {
    "collapsed": true
   },
   "outputs": [],
   "source": [
    "def get_facility_dataelement_datavalues2(dataelement_id, facility_id, period_id):\n",
    "    conn = get_connection()\n",
    "    orgnaization_unit = get_facility_org_units(facility_id)\n",
    "    dataelement = get_data_element_by_id(dataelement_id)\n",
    "    all_datavalues = DataFrame()\n",
    "    \n",
    "    query = \"SELECT * FROM fact_dhis_datavalue WHERE dataelementid = %s AND sourceid = %s AND periodid = %s ;\" %(dataelement_id, orgnaization_unit['organisationunitid'][0], period_id)\n",
    "    for chunk in pd.read_sql(query, con=conn , chunksize=10000):\n",
    "        all_datavalues = all_datavalues.append(chunk)\n",
    "    \n",
    "    \n",
    "    return all_datavalues"
   ]
  },
  {
   "cell_type": "code",
   "execution_count": 15,
   "metadata": {},
   "outputs": [
    {
     "data": {
      "text/html": [
       "<div>\n",
       "<style>\n",
       "    .dataframe thead tr:only-child th {\n",
       "        text-align: right;\n",
       "    }\n",
       "\n",
       "    .dataframe thead th {\n",
       "        text-align: left;\n",
       "    }\n",
       "\n",
       "    .dataframe tbody tr th {\n",
       "        vertical-align: top;\n",
       "    }\n",
       "</style>\n",
       "<table border=\"1\" class=\"dataframe\">\n",
       "  <thead>\n",
       "    <tr style=\"text-align: right;\">\n",
       "      <th></th>\n",
       "      <th>dataelementid</th>\n",
       "      <th>periodid</th>\n",
       "      <th>sourceid</th>\n",
       "      <th>categoryoptioncomboid</th>\n",
       "      <th>attributeoptioncomboid</th>\n",
       "      <th>value</th>\n",
       "      <th>storedby</th>\n",
       "      <th>lastupdated</th>\n",
       "      <th>comment</th>\n",
       "      <th>followup</th>\n",
       "      <th>created</th>\n",
       "      <th>_datecreated</th>\n",
       "      <th>_eventexecutionkey</th>\n",
       "      <th>_lastaction</th>\n",
       "      <th>_mergekey</th>\n",
       "      <th>_sourcesystemcode</th>\n",
       "    </tr>\n",
       "  </thead>\n",
       "  <tbody>\n",
       "    <tr>\n",
       "      <th>0</th>\n",
       "      <td>5154416</td>\n",
       "      <td>2505073</td>\n",
       "      <td>24708</td>\n",
       "      <td>5154243</td>\n",
       "      <td>15</td>\n",
       "      <td>59</td>\n",
       "      <td>Tsigo</td>\n",
       "      <td>2015-05-08 16:02:11.170</td>\n",
       "      <td>None</td>\n",
       "      <td>False</td>\n",
       "      <td>2015-05-08 16:02:11.171</td>\n",
       "      <td>2015-12-17</td>\n",
       "      <td>None</td>\n",
       "      <td>None</td>\n",
       "      <td>None</td>\n",
       "      <td>None</td>\n",
       "    </tr>\n",
       "    <tr>\n",
       "      <th>1</th>\n",
       "      <td>5154416</td>\n",
       "      <td>2505073</td>\n",
       "      <td>24708</td>\n",
       "      <td>5154302</td>\n",
       "      <td>15</td>\n",
       "      <td>923</td>\n",
       "      <td>Tsigo</td>\n",
       "      <td>2015-05-08 16:01:51.330</td>\n",
       "      <td>None</td>\n",
       "      <td>False</td>\n",
       "      <td>2015-05-08 16:01:51.331</td>\n",
       "      <td>2015-12-17</td>\n",
       "      <td>None</td>\n",
       "      <td>None</td>\n",
       "      <td>None</td>\n",
       "      <td>None</td>\n",
       "    </tr>\n",
       "  </tbody>\n",
       "</table>\n",
       "</div>"
      ],
      "text/plain": [
       "   dataelementid  periodid  sourceid  categoryoptioncomboid  \\\n",
       "0        5154416   2505073     24708                5154243   \n",
       "1        5154416   2505073     24708                5154302   \n",
       "\n",
       "   attributeoptioncomboid value storedby             lastupdated comment  \\\n",
       "0                      15    59    Tsigo 2015-05-08 16:02:11.170    None   \n",
       "1                      15   923    Tsigo 2015-05-08 16:01:51.330    None   \n",
       "\n",
       "   followup                 created _datecreated _eventexecutionkey  \\\n",
       "0     False 2015-05-08 16:02:11.171   2015-12-17               None   \n",
       "1     False 2015-05-08 16:01:51.331   2015-12-17               None   \n",
       "\n",
       "  _lastaction _mergekey _sourcesystemcode  \n",
       "0        None      None              None  \n",
       "1        None      None              None  "
      ]
     },
     "execution_count": 15,
     "metadata": {},
     "output_type": "execute_result"
    }
   ],
   "source": [
    "get_facility_dataelement_datavalues2(5154416, 'ab3ad01b-9716-4f7c-a4d7-5f69b12b44cb', 2505073)"
   ]
  },
  {
   "cell_type": "code",
   "execution_count": null,
   "metadata": {
    "collapsed": true
   },
   "outputs": [],
   "source": []
  },
  {
   "cell_type": "code",
   "execution_count": null,
   "metadata": {
    "collapsed": true
   },
   "outputs": [],
   "source": []
  },
  {
   "cell_type": "code",
   "execution_count": null,
   "metadata": {
    "collapsed": true
   },
   "outputs": [],
   "source": [
    "def get_indicator_datavalues(facility_id)"
   ]
  },
  {
   "cell_type": "code",
   "execution_count": null,
   "metadata": {
    "collapsed": true
   },
   "outputs": [],
   "source": []
  },
  {
   "cell_type": "code",
   "execution_count": null,
   "metadata": {
    "collapsed": true
   },
   "outputs": [],
   "source": []
  }
 ],
 "metadata": {
  "kernelspec": {
   "display_name": "Python 2",
   "language": "python",
   "name": "python2"
  },
  "language_info": {
   "codemirror_mode": {
    "name": "ipython",
    "version": 2
   },
   "file_extension": ".py",
   "mimetype": "text/x-python",
   "name": "python",
   "nbconvert_exporter": "python",
   "pygments_lexer": "ipython2",
   "version": "2.7.13"
  }
 },
 "nbformat": 4,
 "nbformat_minor": 2
}
