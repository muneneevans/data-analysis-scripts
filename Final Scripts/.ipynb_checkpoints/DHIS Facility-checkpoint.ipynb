{
 "cells": [
  {
   "cell_type": "code",
   "execution_count": 1,
   "metadata": {},
   "outputs": [],
   "source": [
    "#import needed librar\n",
    "import pandas as pd\n",
    "import numpy as np\n",
    "from pandas import DataFrame, Series\n",
    "import json\n",
    "import psycopg2\n",
    "import os\n",
    "import re"
   ]
  },
  {
   "cell_type": "code",
   "execution_count": 4,
   "metadata": {},
   "outputs": [],
   "source": [
    "def get_connection():\n",
    "    \n",
    "    with open('../db_connection/db_config_2.json') as my_file:\n",
    "        db_conf = json.load(my_file)\n",
    "    conn_str = \"host={} dbname={} user={} password={}\".format(\n",
    "                db_conf['host'], db_conf['database'], \n",
    "                db_conf['user'], db_conf['passw'])\n",
    "    try:\n",
    "        if not hasattr(get_connection, \"conn\"):\n",
    "            print('new')\n",
    "            get_connection.conn = psycopg2.connect(conn_str)\n",
    "            return get_connection.conn\n",
    "        else:\n",
    "            print('same')\n",
    "            return get_connection.conn\n",
    "        return conn\n",
    "    except('error'):\n",
    "        return 'error in connecting to database'\n"
   ]
  },
  {
   "cell_type": "code",
   "execution_count": 7,
   "metadata": {},
   "outputs": [
    {
     "name": "stdout",
     "output_type": "stream",
     "text": [
      "same\n"
     ]
    },
    {
     "data": {
      "text/plain": [
       "<connection object at 0x7f9dd0d887a0; dsn: 'host=41.89.93.180 password=xxx user=dsl dbname=mohdsl', closed: 0>"
      ]
     },
     "execution_count": 7,
     "metadata": {},
     "output_type": "execute_result"
    }
   ],
   "source": [
    "get_connection()"
   ]
  },
  {
   "cell_type": "code",
   "execution_count": 11,
   "metadata": {},
   "outputs": [],
   "source": [
    "def get_indicator_values(facility_id, indicator_id, period_type, year ):\n",
    "    conn = get_connection()\n",
    "    \n",
    "    #get the indicator details\n",
    "    indicator = pd.read_sql( (''' select * from dim_dhis_indicator where indicatorid =  '%s' '''%(93659)), conn).loc[0]\n",
    "    \n",
    "    #get all period values in that year and type\n",
    "    \n",
    "    query = \n",
    "    periods = pd.read_sql( \"SELECT * FROM dim_dhis_period WHERE yearmonth @@ to_tsquery('%s') AND periodtypeid = '%s'\" %(year_id,period_type_id) , con=conn, chunksize=10000):\n",
    "        all_periods = all_periods.append(chunk)\n",
    "    \n",
    "    all_periods['year'] = all_periods['yearmonth'].str.split(' ').str[1]\n",
    "    all_periods['month'] = all_periods['yearmonth'].str.split(' ').str[2]\n",
    "    \n",
    "    \n",
    "    periods = get_year_periodtypes(year,period_type)\n",
    "    \n",
    "    \n",
    "    \n",
    "    facility = get_facility_org_units(facility_id).loc[0]\n",
    "    results = []\n",
    "    \n",
    "    #define the pattern for dataelements-categorycombo and extract them\n",
    "    pattern = \"[a-zA-Z0-9]+\\.[a-zA-Z0-9]+|[a-zA-Z0-9]+\"\n",
    "    numerator_dataelements = re.findall(pattern,indicator['numerator'])\n",
    "    denominator_dataelements = re.findall(pattern,indicator['denominator'])\n",
    "\n",
    "    #iterate through all periods\n",
    "    for col, period in periods.iterrows():\n",
    "        numerator = indicator['numerator'] \n",
    "        \n",
    "        #iterate through dataelements \n",
    "        for datelement_category_combo in numerator_dataelements:           \n",
    "            #extract the data element by searching for datalement. and replace with the id\n",
    "            datelement= None\n",
    "            \n",
    "            # check if the dataelement has a category combo\n",
    "            combo = re.findall(\"\\.[a-zA-Z0-9]+\", datelement_category_combo)\n",
    "            if combo:\n",
    "                #remove . in category combo expression and get uid\n",
    "                combo = re.sub('\\.','', combo[0])\n",
    "                combo_uid = get_category_option_combo_by_uid(combo).loc[0]['categoryoptioncomboid']\n",
    "                dataelement = re.sub('\\.','' , re.findall(\"[a-zA-Z0-9]+\\.\", datelement_category_combo)[0]) \n",
    "            else:\n",
    "                combo_uid = None\n",
    "                dataelement = re.findall(\"[a-zA-Z0-9]+\", datelement_category_combo)[0]\n",
    "\n",
    "            value = get_facility_dataelement_datavalues(dataelement, facility['organisationunitid'], period['periodid'], combo_uid)\n",
    "\n",
    "            if value.empty:            \n",
    "                numerator = re.sub( \"#{\" + datelement_category_combo +\"}\" ,'0',numerator)                \n",
    "            else:\n",
    "                numerator = re.sub(\"#{\" + datelement_category_combo +\"}\" ,value.loc[0]['value'],numerator)                \n",
    "        numerator = float(eval(numerator))\n",
    "        \n",
    "        \n",
    "        denominator = indicator['denominator']\n",
    "        for datelement_category_combo in denominator_dataelements:                       \n",
    "            datelement = None\n",
    "            \n",
    "            combo = re.findall(\"\\.[a-zA-Z0-9]+\", datelement_category_combo)\n",
    "            if combo:\n",
    "                combo = re.sub('\\.','', combo[0])\n",
    "                combo_uid = get_category_option_combo_by_uid(combo).loc[0]['categoryoptioncomboid']\n",
    "                dataelement = re.sub('\\.','' , re.findall(\"[a-zA-Z0-9]+\\.\", datelement_category_combo)[0]) \n",
    "            else:\n",
    "                combo_uid = None\n",
    "                dataelement = re.findall(\"[a-zA-Z0-9]+\", datelement_category_combo)[0]\n",
    "\n",
    "            value = get_facility_dataelement_datavalues(dataelement, facility['organisationunitid'], period['periodid'], combo_uid)\n",
    "            if value.empty:      \n",
    "                denominator = re.sub( \"#{\" + datelement_category_combo +\"}\" ,'1',denominator)                \n",
    "            else:\n",
    "                denominator = re.sub(\"#{\" + datelement_category_combo +\"}\" ,value.loc[0]['value'],denominator)                \n",
    "        denominator =  float(eval(denominator))\n",
    "        indicator_value = {\n",
    "            'indicator_id': indicator['indicatorid'],\n",
    "            'value': (numerator/denominator),\n",
    "            'year' : period['year'],\n",
    "            'month': period['month']\n",
    "        }\n",
    "        \n",
    "        results.append(indicator_value)\n",
    "    \n",
    "    return results\n",
    "        "
   ]
  },
  {
   "cell_type": "code",
   "execution_count": 12,
   "metadata": {},
   "outputs": [
    {
     "name": "stdout",
     "output_type": "stream",
     "text": [
      "same\n"
     ]
    },
    {
     "ename": "NameError",
     "evalue": "global name 'get_year_periodtypes' is not defined",
     "output_type": "error",
     "traceback": [
      "\u001b[0;31m---------------------------------------------------------------------------\u001b[0m",
      "\u001b[0;31mNameError\u001b[0m                                 Traceback (most recent call last)",
      "\u001b[0;32m<ipython-input-12-f9fdb8258516>\u001b[0m in \u001b[0;36m<module>\u001b[0;34m()\u001b[0m\n\u001b[0;32m----> 1\u001b[0;31m \u001b[0mget_indicator_values\u001b[0m\u001b[0;34m(\u001b[0m\u001b[0;34m'2e21b2de-7c5b-4db7-bb1d-26930af9274d'\u001b[0m\u001b[0;34m,\u001b[0m\u001b[0;36m33026\u001b[0m\u001b[0;34m,\u001b[0m\u001b[0;36m5\u001b[0m\u001b[0;34m,\u001b[0m\u001b[0;36m2014\u001b[0m\u001b[0;34m)\u001b[0m\u001b[0;34m\u001b[0m\u001b[0m\n\u001b[0m",
      "\u001b[0;32m<ipython-input-11-885998d57191>\u001b[0m in \u001b[0;36mget_indicator_values\u001b[0;34m(facility_id, indicator_id, period_type, year)\u001b[0m\n\u001b[1;32m      2\u001b[0m     \u001b[0mconn\u001b[0m \u001b[0;34m=\u001b[0m \u001b[0mget_connection\u001b[0m\u001b[0;34m(\u001b[0m\u001b[0;34m)\u001b[0m\u001b[0;34m\u001b[0m\u001b[0m\n\u001b[1;32m      3\u001b[0m     \u001b[0mindicator\u001b[0m \u001b[0;34m=\u001b[0m \u001b[0mpd\u001b[0m\u001b[0;34m.\u001b[0m\u001b[0mread_sql\u001b[0m\u001b[0;34m(\u001b[0m \u001b[0;34m(\u001b[0m\u001b[0;34m''' select * from dim_dhis_indicator where indicatorid =  '%s' '''\u001b[0m\u001b[0;34m%\u001b[0m\u001b[0;34m(\u001b[0m\u001b[0;36m93659\u001b[0m\u001b[0;34m)\u001b[0m\u001b[0;34m)\u001b[0m\u001b[0;34m,\u001b[0m \u001b[0mconn\u001b[0m\u001b[0;34m)\u001b[0m\u001b[0;34m.\u001b[0m\u001b[0mloc\u001b[0m\u001b[0;34m[\u001b[0m\u001b[0;36m0\u001b[0m\u001b[0;34m]\u001b[0m\u001b[0;34m\u001b[0m\u001b[0m\n\u001b[0;32m----> 4\u001b[0;31m     \u001b[0mperiods\u001b[0m \u001b[0;34m=\u001b[0m \u001b[0mget_year_periodtypes\u001b[0m\u001b[0;34m(\u001b[0m\u001b[0myear\u001b[0m\u001b[0;34m,\u001b[0m\u001b[0mperiod_type\u001b[0m\u001b[0;34m)\u001b[0m\u001b[0;34m\u001b[0m\u001b[0m\n\u001b[0m\u001b[1;32m      5\u001b[0m     \u001b[0mfacility\u001b[0m \u001b[0;34m=\u001b[0m \u001b[0mget_facility_org_units\u001b[0m\u001b[0;34m(\u001b[0m\u001b[0mfacility_id\u001b[0m\u001b[0;34m)\u001b[0m\u001b[0;34m.\u001b[0m\u001b[0mloc\u001b[0m\u001b[0;34m[\u001b[0m\u001b[0;36m0\u001b[0m\u001b[0;34m]\u001b[0m\u001b[0;34m\u001b[0m\u001b[0m\n\u001b[1;32m      6\u001b[0m     \u001b[0mresults\u001b[0m \u001b[0;34m=\u001b[0m \u001b[0;34m[\u001b[0m\u001b[0;34m]\u001b[0m\u001b[0;34m\u001b[0m\u001b[0m\n",
      "\u001b[0;31mNameError\u001b[0m: global name 'get_year_periodtypes' is not defined"
     ]
    }
   ],
   "source": [
    "get_indicator_values('2e21b2de-7c5b-4db7-bb1d-26930af9274d',33026,5,2014)"
   ]
  },
  {
   "cell_type": "code",
   "execution_count": null,
   "metadata": {},
   "outputs": [],
   "source": []
  },
  {
   "cell_type": "code",
   "execution_count": null,
   "metadata": {},
   "outputs": [],
   "source": []
  }
 ],
 "metadata": {
  "kernelspec": {
   "display_name": "Python 2",
   "language": "python",
   "name": "python2"
  },
  "language_info": {
   "codemirror_mode": {
    "name": "ipython",
    "version": 2
   },
   "file_extension": ".py",
   "mimetype": "text/x-python",
   "name": "python",
   "nbconvert_exporter": "python",
   "pygments_lexer": "ipython2",
   "version": "2.7.14"
  }
 },
 "nbformat": 4,
 "nbformat_minor": 2
}
