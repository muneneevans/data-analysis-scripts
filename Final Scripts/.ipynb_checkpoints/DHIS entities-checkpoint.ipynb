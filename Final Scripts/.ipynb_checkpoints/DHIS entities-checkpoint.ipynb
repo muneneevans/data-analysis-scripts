{
 "cells": [
  {
   "cell_type": "code",
   "execution_count": null,
   "metadata": {
    "collapsed": true
   },
   "outputs": [],
   "source": [
    "#import needed librar\n",
    "import pandas as pd\n",
    "import numpy as np\n",
    "from pandas import DataFrame, Series\n",
    "import json\n",
    "import psycopg2\n",
    "import os\n",
    "import re\n",
    "# "
   ]
  },
  {
   "cell_type": "code",
   "execution_count": null,
   "metadata": {
    "collapsed": true
   },
   "outputs": [],
   "source": [
    "def get_connection():\n",
    "    conn = {}\n",
    "    with open('../db_connection/db_config.json') as my_file:\n",
    "        db_conf = json.load(my_file)\n",
    "    conn_str = \"host={} dbname={} user={} password={}\".format(\n",
    "                db_conf['host'], db_conf['database'], \n",
    "                db_conf['user'], db_conf['passw'])\n",
    "    try:\n",
    "        conn = psycopg2.connect(conn_str)\n",
    "        return conn\n",
    "    except:\n",
    "        return 'error in connecting to database'"
   ]
  },
  {
   "cell_type": "code",
   "execution_count": null,
   "metadata": {},
   "outputs": [],
   "source": [
    "get_connection()"
   ]
  },
  {
   "cell_type": "code",
   "execution_count": null,
   "metadata": {
    "collapsed": true
   },
   "outputs": [],
   "source": []
  },
  {
   "cell_type": "code",
   "execution_count": null,
   "metadata": {
    "collapsed": true
   },
   "outputs": [],
   "source": []
  },
  {
   "cell_type": "code",
   "execution_count": null,
   "metadata": {
    "collapsed": true
   },
   "outputs": [],
   "source": [
    "def get_indicator_groups():\n",
    "    '''return a list of all indicator groups'''\n",
    "    conn = get_connection()\n",
    "    \n",
    "    all_indicator_groups = DataFrame()\n",
    "    \n",
    "    for chunk in pd.read_sql('SELECT * FROM dim_dhis_indicatorgroup', con=conn, chunksize=100):\n",
    "        all_indicator_groups = all_indicator_groups.append(chunk)\n",
    "    \n",
    "    return all_indicator_groups"
   ]
  },
  {
   "cell_type": "code",
   "execution_count": null,
   "metadata": {
    "scrolled": true
   },
   "outputs": [],
   "source": [
    "get_indicator_groups()"
   ]
  },
  {
   "cell_type": "code",
   "execution_count": null,
   "metadata": {
    "collapsed": true
   },
   "outputs": [],
   "source": []
  },
  {
   "cell_type": "code",
   "execution_count": null,
   "metadata": {
    "collapsed": true
   },
   "outputs": [],
   "source": []
  },
  {
   "cell_type": "code",
   "execution_count": null,
   "metadata": {
    "collapsed": true
   },
   "outputs": [],
   "source": [
    "def get_indicator_group_by_id(indicator_group_id):\n",
    "    '''return a single indicator group matching the id'''\n",
    "    conn = get_connection()\n",
    "    \n",
    "    all_indicator_groups = DataFrame()\n",
    "    \n",
    "    for chunk in pd.read_sql('SELECT * FROM dim_dhis_indicatorgroup', con=conn, chunksize=100):\n",
    "        all_indicator_groups = all_indicator_groups.append(chunk)\n",
    "    \n",
    "    single_indicator = all_indicator_groups[all_indicator_groups['indicatorgroupid']==indicator_group_id]\n",
    "    return single_indicator"
   ]
  },
  {
   "cell_type": "code",
   "execution_count": null,
   "metadata": {},
   "outputs": [],
   "source": [
    "get_indicator_group_by_id(412980)"
   ]
  },
  {
   "cell_type": "code",
   "execution_count": null,
   "metadata": {
    "collapsed": true
   },
   "outputs": [],
   "source": []
  },
  {
   "cell_type": "code",
   "execution_count": null,
   "metadata": {
    "collapsed": true
   },
   "outputs": [],
   "source": []
  },
  {
   "cell_type": "code",
   "execution_count": null,
   "metadata": {
    "collapsed": true
   },
   "outputs": [],
   "source": [
    "def get_all_indicator_group_members():\n",
    "    '''return all indicators in an indicator group'''\n",
    "    conn = get_connection()    \n",
    "    \n",
    "    all_indicator_group_members = DataFrame()\n",
    "    \n",
    "    for chunk in pd.read_sql('SELECT * FROM dim_dhis_indicatorgroupmembers', con=conn, chunksize=100):\n",
    "        all_indicator_group_members = all_indicator_group_members.append(chunk)        \n",
    "    \n",
    "    return all_indicator_group_members\n"
   ]
  },
  {
   "cell_type": "code",
   "execution_count": null,
   "metadata": {
    "scrolled": true
   },
   "outputs": [],
   "source": [
    "get_all_indicator_group_members()"
   ]
  },
  {
   "cell_type": "code",
   "execution_count": null,
   "metadata": {
    "collapsed": true
   },
   "outputs": [],
   "source": []
  },
  {
   "cell_type": "code",
   "execution_count": null,
   "metadata": {
    "collapsed": true
   },
   "outputs": [],
   "source": []
  },
  {
   "cell_type": "code",
   "execution_count": null,
   "metadata": {
    "collapsed": true
   },
   "outputs": [],
   "source": [
    "def get_indicator_group_members(indicator_group_id):\n",
    "    '''return all indicators in an indicator group'''\n",
    "    conn = get_connection()\n",
    "    \n",
    "    #get the indicator group\n",
    "    indicator_group = get_indicator_group_by_id(indicator_group_id)\n",
    "    indicator_group = indicator_group.rename(index=str, columns={'name': 'indicator_group_name'})\n",
    "    \n",
    "    all_indicator_group_members = DataFrame()\n",
    "    \n",
    "    for chunk in pd.read_sql('SELECT * FROM dim_dhis_indicatorgroupmembers', con=conn, chunksize=100):\n",
    "        all_indicator_group_members = all_indicator_group_members.append(chunk)\n",
    "    \n",
    "    indicator_group_members = pd.merge(all_indicator_group_members, indicator_group, on='indicatorgroupid')\n",
    "    \n",
    "    return indicator_group_members\n"
   ]
  },
  {
   "cell_type": "code",
   "execution_count": null,
   "metadata": {},
   "outputs": [],
   "source": [
    "get_indicator_group_members(412980).columns\n"
   ]
  },
  {
   "cell_type": "code",
   "execution_count": null,
   "metadata": {
    "collapsed": true
   },
   "outputs": [],
   "source": []
  },
  {
   "cell_type": "code",
   "execution_count": null,
   "metadata": {
    "collapsed": true
   },
   "outputs": [],
   "source": []
  },
  {
   "cell_type": "code",
   "execution_count": null,
   "metadata": {
    "collapsed": true
   },
   "outputs": [],
   "source": [
    "def get_indicator_group_indicators(indicator_group_id):\n",
    "    '''get all indicators in an indicator group'''\n",
    "    conn=get_connection()\n",
    "    #get indicator memmbers\n",
    "    indicator_memmber = get_indicator_group_members(indicator_group_id)\n",
    "    \n",
    "    all_indicators = DataFrame()\n",
    "    for chunk in pd.read_sql('SELECT * FROM dim_dhis_indicator', con=conn, chunksize=100):\n",
    "        all_indicators = all_indicators.append(chunk)\n",
    "    \n",
    "    indicators = pd.merge(all_indicators, indicator_memmber, on='indicatorid')\n",
    "    \n",
    "    \n",
    "    return indicators"
   ]
  },
  {
   "cell_type": "code",
   "execution_count": null,
   "metadata": {},
   "outputs": [],
   "source": [
    "# get_indicator_group_indicators(84109).dtypes\n",
    "print get_indicator_group_indicators(412980)[['numerator']]"
   ]
  },
  {
   "cell_type": "code",
   "execution_count": null,
   "metadata": {
    "collapsed": true
   },
   "outputs": [],
   "source": []
  },
  {
   "cell_type": "code",
   "execution_count": null,
   "metadata": {
    "collapsed": true
   },
   "outputs": [],
   "source": []
  },
  {
   "cell_type": "code",
   "execution_count": null,
   "metadata": {
    "collapsed": true
   },
   "outputs": [],
   "source": [
    "def get_indicator_by_id(indicator_id):\n",
    "    '''get specific indicator by id'''\n",
    "    conn=get_connection()\n",
    "    \n",
    "    query = \"SELECT * FROM dim_dhis_indicator WHERE indicatorid = '%s';\" %(indicator_id)\n",
    "    indicator = pd.read_sql(query, conn)\n",
    "    \n",
    "    return indicator"
   ]
  },
  {
   "cell_type": "code",
   "execution_count": null,
   "metadata": {},
   "outputs": [],
   "source": [
    "get_indicator_by_id(413098)"
   ]
  },
  {
   "cell_type": "code",
   "execution_count": null,
   "metadata": {
    "collapsed": true
   },
   "outputs": [],
   "source": []
  },
  {
   "cell_type": "code",
   "execution_count": null,
   "metadata": {
    "collapsed": true
   },
   "outputs": [],
   "source": [
    "def get_dataelment_by_id(dataelement_id):\n",
    "    '''get specific data element'''\n",
    "    conn=get_connection()\n",
    "    #get data element\n",
    "    \n",
    "    all_dataelements = DataFrame()\n",
    "    for chunk in pd.read_sql('SELECT * FROM dim_dhis_dataelement', con=conn, chunksize=10000):\n",
    "        all_dataelements = all_dataelements.append(chunk)\n",
    "       \n",
    "    return all_dataelements"
   ]
  },
  {
   "cell_type": "code",
   "execution_count": null,
   "metadata": {
    "collapsed": true
   },
   "outputs": [],
   "source": [
    "de = get_dataelment_by_id('qa1IrxISrSJ')"
   ]
  },
  {
   "cell_type": "code",
   "execution_count": null,
   "metadata": {
    "collapsed": true
   },
   "outputs": [],
   "source": []
  },
  {
   "cell_type": "code",
   "execution_count": null,
   "metadata": {
    "collapsed": true
   },
   "outputs": [],
   "source": []
  },
  {
   "cell_type": "code",
   "execution_count": 136,
   "metadata": {},
   "outputs": [
    {
     "data": {
      "text/plain": [
       "['RwTKRWWKGhn.NhSoXUMPK2K', 'qMybCnYBkNY']"
      ]
     },
     "execution_count": 136,
     "metadata": {},
     "output_type": "execute_result"
    }
   ],
   "source": [
    "pattern = re.compile('#{[a-zA-Z]+}')\n",
    "components = re.findall(\"[a-zA-Z0-9]+\\.[a-zA-Z0-9]+|[a-zA-Z0-9]+\",\"#{RwTKRWWKGhn.NhSoXUMPK2K}+#{}+#{qMybCnYBkNY}\")\n",
    "components\n",
    "\n"
   ]
  },
  {
   "cell_type": "code",
   "execution_count": 140,
   "metadata": {},
   "outputs": [
    {
     "name": "stdout",
     "output_type": "stream",
     "text": [
      "15\n"
     ]
    }
   ],
   "source": [
    "for c in components:\n",
    "    combo = re.findall(\"\\.[a-zA-Z0-9]+\", c)\n",
    "    if combo:\n",
    "        combo = re.sub('\\.','', combo[0])\n",
    "        \n",
    "        print (get_category_option_combo_by_uid(combo)).loc[0]['categoryoptioncomboid']\n",
    "        \n",
    "        \n",
    "        \n",
    "      \n",
    "    \n",
    "    "
   ]
  },
  {
   "cell_type": "code",
   "execution_count": null,
   "metadata": {},
   "outputs": [],
   "source": [
    "re.sub(\"#{\" + m[0] +\"}\" ,'evans',\"#{qa1IrxISrSJ}+#{qMybCnYBkNY}\")"
   ]
  },
  {
   "cell_type": "code",
   "execution_count": null,
   "metadata": {
    "collapsed": true
   },
   "outputs": [],
   "source": []
  },
  {
   "cell_type": "code",
   "execution_count": null,
   "metadata": {
    "collapsed": true
   },
   "outputs": [],
   "source": []
  },
  {
   "cell_type": "code",
   "execution_count": null,
   "metadata": {
    "collapsed": true
   },
   "outputs": [],
   "source": [
    "#get a specific county\n",
    "def get_category_combos():\n",
    "    conn = get_connection()\n",
    "    all_orgunits = pd.DataFrame()\n",
    "    for chunk in pd.read_sql('SELECT * FROM dim_dhis_categoryoptioncombo', con=conn, chunksize=10000):\n",
    "        all_orgunits = all_orgunits.append(chunk)\n",
    "    \n",
    "    return all_orgunits"
   ]
  },
  {
   "cell_type": "code",
   "execution_count": 113,
   "metadata": {
    "collapsed": true
   },
   "outputs": [
    {
     "data": {
      "text/html": [
       "<div>\n",
       "<style>\n",
       "    .dataframe thead tr:only-child th {\n",
       "        text-align: right;\n",
       "    }\n",
       "\n",
       "    .dataframe thead th {\n",
       "        text-align: left;\n",
       "    }\n",
       "\n",
       "    .dataframe tbody tr th {\n",
       "        vertical-align: top;\n",
       "    }\n",
       "</style>\n",
       "<table border=\"1\" class=\"dataframe\">\n",
       "  <thead>\n",
       "    <tr style=\"text-align: right;\">\n",
       "      <th></th>\n",
       "      <th>categoryoptioncomboid</th>\n",
       "      <th>uid</th>\n",
       "      <th>code</th>\n",
       "      <th>_datecreated</th>\n",
       "      <th>_eventexecutionkey</th>\n",
       "      <th>_lastaction</th>\n",
       "      <th>_mergekey</th>\n",
       "      <th>_sourcesystemcode</th>\n",
       "    </tr>\n",
       "  </thead>\n",
       "  <tbody>\n",
       "    <tr>\n",
       "      <th>0</th>\n",
       "      <td>8688567</td>\n",
       "      <td>r6zTEVft9H1</td>\n",
       "      <td>None</td>\n",
       "      <td>None</td>\n",
       "      <td>None</td>\n",
       "      <td>None</td>\n",
       "      <td>None</td>\n",
       "      <td>None</td>\n",
       "    </tr>\n",
       "    <tr>\n",
       "      <th>1</th>\n",
       "      <td>8813495</td>\n",
       "      <td>lZUIAg6whIT</td>\n",
       "      <td>None</td>\n",
       "      <td>None</td>\n",
       "      <td>None</td>\n",
       "      <td>None</td>\n",
       "      <td>None</td>\n",
       "      <td>None</td>\n",
       "    </tr>\n",
       "    <tr>\n",
       "      <th>2</th>\n",
       "      <td>8813496</td>\n",
       "      <td>xBF0SZh6k2f</td>\n",
       "      <td>None</td>\n",
       "      <td>None</td>\n",
       "      <td>None</td>\n",
       "      <td>None</td>\n",
       "      <td>None</td>\n",
       "      <td>None</td>\n",
       "    </tr>\n",
       "    <tr>\n",
       "      <th>3</th>\n",
       "      <td>8813497</td>\n",
       "      <td>ejejj1FVTq2</td>\n",
       "      <td>None</td>\n",
       "      <td>None</td>\n",
       "      <td>None</td>\n",
       "      <td>None</td>\n",
       "      <td>None</td>\n",
       "      <td>None</td>\n",
       "    </tr>\n",
       "    <tr>\n",
       "      <th>4</th>\n",
       "      <td>8813498</td>\n",
       "      <td>XzPlCAJe8jX</td>\n",
       "      <td>None</td>\n",
       "      <td>None</td>\n",
       "      <td>None</td>\n",
       "      <td>None</td>\n",
       "      <td>None</td>\n",
       "      <td>None</td>\n",
       "    </tr>\n",
       "    <tr>\n",
       "      <th>5</th>\n",
       "      <td>20673</td>\n",
       "      <td>ieuodyY5ybC</td>\n",
       "      <td>None</td>\n",
       "      <td>None</td>\n",
       "      <td>None</td>\n",
       "      <td>None</td>\n",
       "      <td>None</td>\n",
       "      <td>None</td>\n",
       "    </tr>\n",
       "    <tr>\n",
       "      <th>6</th>\n",
       "      <td>20674</td>\n",
       "      <td>bCfwecaPx2W</td>\n",
       "      <td>None</td>\n",
       "      <td>None</td>\n",
       "      <td>None</td>\n",
       "      <td>None</td>\n",
       "      <td>None</td>\n",
       "      <td>None</td>\n",
       "    </tr>\n",
       "    <tr>\n",
       "      <th>7</th>\n",
       "      <td>20676</td>\n",
       "      <td>lHl2rmXpHse</td>\n",
       "      <td>None</td>\n",
       "      <td>None</td>\n",
       "      <td>None</td>\n",
       "      <td>None</td>\n",
       "      <td>None</td>\n",
       "      <td>None</td>\n",
       "    </tr>\n",
       "    <tr>\n",
       "      <th>8</th>\n",
       "      <td>20677</td>\n",
       "      <td>SeDaCnHi3m5</td>\n",
       "      <td>None</td>\n",
       "      <td>None</td>\n",
       "      <td>None</td>\n",
       "      <td>None</td>\n",
       "      <td>None</td>\n",
       "      <td>None</td>\n",
       "    </tr>\n",
       "    <tr>\n",
       "      <th>9</th>\n",
       "      <td>21258</td>\n",
       "      <td>omEDL5LVgDJ</td>\n",
       "      <td>None</td>\n",
       "      <td>None</td>\n",
       "      <td>None</td>\n",
       "      <td>None</td>\n",
       "      <td>None</td>\n",
       "      <td>None</td>\n",
       "    </tr>\n",
       "    <tr>\n",
       "      <th>10</th>\n",
       "      <td>21259</td>\n",
       "      <td>g6112VF7T29</td>\n",
       "      <td>None</td>\n",
       "      <td>None</td>\n",
       "      <td>None</td>\n",
       "      <td>None</td>\n",
       "      <td>None</td>\n",
       "      <td>None</td>\n",
       "    </tr>\n",
       "    <tr>\n",
       "      <th>11</th>\n",
       "      <td>21260</td>\n",
       "      <td>j03wX0lCHZc</td>\n",
       "      <td>None</td>\n",
       "      <td>None</td>\n",
       "      <td>None</td>\n",
       "      <td>None</td>\n",
       "      <td>None</td>\n",
       "      <td>None</td>\n",
       "    </tr>\n",
       "    <tr>\n",
       "      <th>12</th>\n",
       "      <td>21261</td>\n",
       "      <td>vVketPHJwSY</td>\n",
       "      <td>None</td>\n",
       "      <td>None</td>\n",
       "      <td>None</td>\n",
       "      <td>None</td>\n",
       "      <td>None</td>\n",
       "      <td>None</td>\n",
       "    </tr>\n",
       "    <tr>\n",
       "      <th>13</th>\n",
       "      <td>21268</td>\n",
       "      <td>wBWcFk7k1qY</td>\n",
       "      <td>None</td>\n",
       "      <td>None</td>\n",
       "      <td>None</td>\n",
       "      <td>None</td>\n",
       "      <td>None</td>\n",
       "      <td>None</td>\n",
       "    </tr>\n",
       "    <tr>\n",
       "      <th>14</th>\n",
       "      <td>21325</td>\n",
       "      <td>sXgcr8o6TqL</td>\n",
       "      <td>None</td>\n",
       "      <td>None</td>\n",
       "      <td>None</td>\n",
       "      <td>None</td>\n",
       "      <td>None</td>\n",
       "      <td>None</td>\n",
       "    </tr>\n",
       "    <tr>\n",
       "      <th>15</th>\n",
       "      <td>21615</td>\n",
       "      <td>Lj5arkL7GL8</td>\n",
       "      <td>None</td>\n",
       "      <td>None</td>\n",
       "      <td>None</td>\n",
       "      <td>None</td>\n",
       "      <td>None</td>\n",
       "      <td>None</td>\n",
       "    </tr>\n",
       "    <tr>\n",
       "      <th>16</th>\n",
       "      <td>21616</td>\n",
       "      <td>ObiJr399QRt</td>\n",
       "      <td>None</td>\n",
       "      <td>None</td>\n",
       "      <td>None</td>\n",
       "      <td>None</td>\n",
       "      <td>None</td>\n",
       "      <td>None</td>\n",
       "    </tr>\n",
       "    <tr>\n",
       "      <th>17</th>\n",
       "      <td>21617</td>\n",
       "      <td>bPNw3Km3Ug7</td>\n",
       "      <td>None</td>\n",
       "      <td>None</td>\n",
       "      <td>None</td>\n",
       "      <td>None</td>\n",
       "      <td>None</td>\n",
       "      <td>None</td>\n",
       "    </tr>\n",
       "    <tr>\n",
       "      <th>18</th>\n",
       "      <td>21618</td>\n",
       "      <td>JUI7tesx6as</td>\n",
       "      <td>None</td>\n",
       "      <td>None</td>\n",
       "      <td>None</td>\n",
       "      <td>None</td>\n",
       "      <td>None</td>\n",
       "      <td>None</td>\n",
       "    </tr>\n",
       "    <tr>\n",
       "      <th>19</th>\n",
       "      <td>21683</td>\n",
       "      <td>U4pOspYgS6C</td>\n",
       "      <td>None</td>\n",
       "      <td>None</td>\n",
       "      <td>None</td>\n",
       "      <td>None</td>\n",
       "      <td>None</td>\n",
       "      <td>None</td>\n",
       "    </tr>\n",
       "    <tr>\n",
       "      <th>20</th>\n",
       "      <td>21684</td>\n",
       "      <td>BhEifF7qaMa</td>\n",
       "      <td>None</td>\n",
       "      <td>None</td>\n",
       "      <td>None</td>\n",
       "      <td>None</td>\n",
       "      <td>None</td>\n",
       "      <td>None</td>\n",
       "    </tr>\n",
       "    <tr>\n",
       "      <th>21</th>\n",
       "      <td>21685</td>\n",
       "      <td>E001TwZacAM</td>\n",
       "      <td>None</td>\n",
       "      <td>None</td>\n",
       "      <td>None</td>\n",
       "      <td>None</td>\n",
       "      <td>None</td>\n",
       "      <td>None</td>\n",
       "    </tr>\n",
       "    <tr>\n",
       "      <th>22</th>\n",
       "      <td>21686</td>\n",
       "      <td>UcbjkmT8m0e</td>\n",
       "      <td>None</td>\n",
       "      <td>None</td>\n",
       "      <td>None</td>\n",
       "      <td>None</td>\n",
       "      <td>None</td>\n",
       "      <td>None</td>\n",
       "    </tr>\n",
       "    <tr>\n",
       "      <th>23</th>\n",
       "      <td>21687</td>\n",
       "      <td>PyfuYO3qlk2</td>\n",
       "      <td>None</td>\n",
       "      <td>None</td>\n",
       "      <td>None</td>\n",
       "      <td>None</td>\n",
       "      <td>None</td>\n",
       "      <td>None</td>\n",
       "    </tr>\n",
       "    <tr>\n",
       "      <th>24</th>\n",
       "      <td>21688</td>\n",
       "      <td>uyHMrgHkWa4</td>\n",
       "      <td>None</td>\n",
       "      <td>None</td>\n",
       "      <td>None</td>\n",
       "      <td>None</td>\n",
       "      <td>None</td>\n",
       "      <td>None</td>\n",
       "    </tr>\n",
       "    <tr>\n",
       "      <th>25</th>\n",
       "      <td>21689</td>\n",
       "      <td>K4bGFMZEuMW</td>\n",
       "      <td>None</td>\n",
       "      <td>None</td>\n",
       "      <td>None</td>\n",
       "      <td>None</td>\n",
       "      <td>None</td>\n",
       "      <td>None</td>\n",
       "    </tr>\n",
       "    <tr>\n",
       "      <th>26</th>\n",
       "      <td>21690</td>\n",
       "      <td>cSmXmzTMZDN</td>\n",
       "      <td>None</td>\n",
       "      <td>None</td>\n",
       "      <td>None</td>\n",
       "      <td>None</td>\n",
       "      <td>None</td>\n",
       "      <td>None</td>\n",
       "    </tr>\n",
       "    <tr>\n",
       "      <th>27</th>\n",
       "      <td>261754</td>\n",
       "      <td>WDafWKWrI84</td>\n",
       "      <td>None</td>\n",
       "      <td>None</td>\n",
       "      <td>None</td>\n",
       "      <td>None</td>\n",
       "      <td>None</td>\n",
       "      <td>None</td>\n",
       "    </tr>\n",
       "    <tr>\n",
       "      <th>28</th>\n",
       "      <td>261755</td>\n",
       "      <td>XIQ1SeOshtt</td>\n",
       "      <td>None</td>\n",
       "      <td>None</td>\n",
       "      <td>None</td>\n",
       "      <td>None</td>\n",
       "      <td>None</td>\n",
       "      <td>None</td>\n",
       "    </tr>\n",
       "    <tr>\n",
       "      <th>29</th>\n",
       "      <td>261756</td>\n",
       "      <td>RYmHjCLU2CB</td>\n",
       "      <td>None</td>\n",
       "      <td>None</td>\n",
       "      <td>None</td>\n",
       "      <td>None</td>\n",
       "      <td>None</td>\n",
       "      <td>None</td>\n",
       "    </tr>\n",
       "    <tr>\n",
       "      <th>...</th>\n",
       "      <td>...</td>\n",
       "      <td>...</td>\n",
       "      <td>...</td>\n",
       "      <td>...</td>\n",
       "      <td>...</td>\n",
       "      <td>...</td>\n",
       "      <td>...</td>\n",
       "      <td>...</td>\n",
       "    </tr>\n",
       "    <tr>\n",
       "      <th>993</th>\n",
       "      <td>7839686</td>\n",
       "      <td>JRPzrvKWxIU</td>\n",
       "      <td>None</td>\n",
       "      <td>None</td>\n",
       "      <td>None</td>\n",
       "      <td>None</td>\n",
       "      <td>None</td>\n",
       "      <td>None</td>\n",
       "    </tr>\n",
       "    <tr>\n",
       "      <th>994</th>\n",
       "      <td>7839687</td>\n",
       "      <td>ZnAiy4Avkoo</td>\n",
       "      <td>None</td>\n",
       "      <td>None</td>\n",
       "      <td>None</td>\n",
       "      <td>None</td>\n",
       "      <td>None</td>\n",
       "      <td>None</td>\n",
       "    </tr>\n",
       "    <tr>\n",
       "      <th>995</th>\n",
       "      <td>7839688</td>\n",
       "      <td>A6AJd72OBem</td>\n",
       "      <td>None</td>\n",
       "      <td>None</td>\n",
       "      <td>None</td>\n",
       "      <td>None</td>\n",
       "      <td>None</td>\n",
       "      <td>None</td>\n",
       "    </tr>\n",
       "    <tr>\n",
       "      <th>996</th>\n",
       "      <td>7839689</td>\n",
       "      <td>Hd6rg3KwxWe</td>\n",
       "      <td>None</td>\n",
       "      <td>None</td>\n",
       "      <td>None</td>\n",
       "      <td>None</td>\n",
       "      <td>None</td>\n",
       "      <td>None</td>\n",
       "    </tr>\n",
       "    <tr>\n",
       "      <th>997</th>\n",
       "      <td>7839690</td>\n",
       "      <td>Mn2LAHnCBHT</td>\n",
       "      <td>None</td>\n",
       "      <td>None</td>\n",
       "      <td>None</td>\n",
       "      <td>None</td>\n",
       "      <td>None</td>\n",
       "      <td>None</td>\n",
       "    </tr>\n",
       "    <tr>\n",
       "      <th>998</th>\n",
       "      <td>7839691</td>\n",
       "      <td>py8ArdZAgVA</td>\n",
       "      <td>None</td>\n",
       "      <td>None</td>\n",
       "      <td>None</td>\n",
       "      <td>None</td>\n",
       "      <td>None</td>\n",
       "      <td>None</td>\n",
       "    </tr>\n",
       "    <tr>\n",
       "      <th>999</th>\n",
       "      <td>7839692</td>\n",
       "      <td>qPTIGNYhKcP</td>\n",
       "      <td>None</td>\n",
       "      <td>None</td>\n",
       "      <td>None</td>\n",
       "      <td>None</td>\n",
       "      <td>None</td>\n",
       "      <td>None</td>\n",
       "    </tr>\n",
       "    <tr>\n",
       "      <th>1000</th>\n",
       "      <td>7839693</td>\n",
       "      <td>qVM5nQVj5Ll</td>\n",
       "      <td>None</td>\n",
       "      <td>None</td>\n",
       "      <td>None</td>\n",
       "      <td>None</td>\n",
       "      <td>None</td>\n",
       "      <td>None</td>\n",
       "    </tr>\n",
       "    <tr>\n",
       "      <th>1001</th>\n",
       "      <td>7839694</td>\n",
       "      <td>k4Xh1PG3s66</td>\n",
       "      <td>None</td>\n",
       "      <td>None</td>\n",
       "      <td>None</td>\n",
       "      <td>None</td>\n",
       "      <td>None</td>\n",
       "      <td>None</td>\n",
       "    </tr>\n",
       "    <tr>\n",
       "      <th>1002</th>\n",
       "      <td>7839695</td>\n",
       "      <td>KBOCcfnNK1v</td>\n",
       "      <td>None</td>\n",
       "      <td>None</td>\n",
       "      <td>None</td>\n",
       "      <td>None</td>\n",
       "      <td>None</td>\n",
       "      <td>None</td>\n",
       "    </tr>\n",
       "    <tr>\n",
       "      <th>1003</th>\n",
       "      <td>7839696</td>\n",
       "      <td>xDofrBdn4XL</td>\n",
       "      <td>None</td>\n",
       "      <td>None</td>\n",
       "      <td>None</td>\n",
       "      <td>None</td>\n",
       "      <td>None</td>\n",
       "      <td>None</td>\n",
       "    </tr>\n",
       "    <tr>\n",
       "      <th>1004</th>\n",
       "      <td>7839697</td>\n",
       "      <td>olBzxhSMSuU</td>\n",
       "      <td>None</td>\n",
       "      <td>None</td>\n",
       "      <td>None</td>\n",
       "      <td>None</td>\n",
       "      <td>None</td>\n",
       "      <td>None</td>\n",
       "    </tr>\n",
       "    <tr>\n",
       "      <th>1005</th>\n",
       "      <td>7839698</td>\n",
       "      <td>SPE6IGh6XHv</td>\n",
       "      <td>None</td>\n",
       "      <td>None</td>\n",
       "      <td>None</td>\n",
       "      <td>None</td>\n",
       "      <td>None</td>\n",
       "      <td>None</td>\n",
       "    </tr>\n",
       "    <tr>\n",
       "      <th>1006</th>\n",
       "      <td>7839699</td>\n",
       "      <td>fPke0YL2TaI</td>\n",
       "      <td>None</td>\n",
       "      <td>None</td>\n",
       "      <td>None</td>\n",
       "      <td>None</td>\n",
       "      <td>None</td>\n",
       "      <td>None</td>\n",
       "    </tr>\n",
       "    <tr>\n",
       "      <th>1007</th>\n",
       "      <td>7839700</td>\n",
       "      <td>Zq6Muz8NQkt</td>\n",
       "      <td>None</td>\n",
       "      <td>None</td>\n",
       "      <td>None</td>\n",
       "      <td>None</td>\n",
       "      <td>None</td>\n",
       "      <td>None</td>\n",
       "    </tr>\n",
       "    <tr>\n",
       "      <th>1008</th>\n",
       "      <td>7839701</td>\n",
       "      <td>YP4rvjo8uzQ</td>\n",
       "      <td>None</td>\n",
       "      <td>None</td>\n",
       "      <td>None</td>\n",
       "      <td>None</td>\n",
       "      <td>None</td>\n",
       "      <td>None</td>\n",
       "    </tr>\n",
       "    <tr>\n",
       "      <th>1009</th>\n",
       "      <td>7839702</td>\n",
       "      <td>lfvCtV9GtmS</td>\n",
       "      <td>None</td>\n",
       "      <td>None</td>\n",
       "      <td>None</td>\n",
       "      <td>None</td>\n",
       "      <td>None</td>\n",
       "      <td>None</td>\n",
       "    </tr>\n",
       "    <tr>\n",
       "      <th>1010</th>\n",
       "      <td>7839703</td>\n",
       "      <td>j3ojMzPeuvb</td>\n",
       "      <td>None</td>\n",
       "      <td>None</td>\n",
       "      <td>None</td>\n",
       "      <td>None</td>\n",
       "      <td>None</td>\n",
       "      <td>None</td>\n",
       "    </tr>\n",
       "    <tr>\n",
       "      <th>1011</th>\n",
       "      <td>7839704</td>\n",
       "      <td>mLrXxQcKIYb</td>\n",
       "      <td>None</td>\n",
       "      <td>None</td>\n",
       "      <td>None</td>\n",
       "      <td>None</td>\n",
       "      <td>None</td>\n",
       "      <td>None</td>\n",
       "    </tr>\n",
       "    <tr>\n",
       "      <th>1012</th>\n",
       "      <td>7839705</td>\n",
       "      <td>p8cYhLPM85h</td>\n",
       "      <td>None</td>\n",
       "      <td>None</td>\n",
       "      <td>None</td>\n",
       "      <td>None</td>\n",
       "      <td>None</td>\n",
       "      <td>None</td>\n",
       "    </tr>\n",
       "    <tr>\n",
       "      <th>1013</th>\n",
       "      <td>7839706</td>\n",
       "      <td>Q2fJIoTjXmH</td>\n",
       "      <td>None</td>\n",
       "      <td>None</td>\n",
       "      <td>None</td>\n",
       "      <td>None</td>\n",
       "      <td>None</td>\n",
       "      <td>None</td>\n",
       "    </tr>\n",
       "    <tr>\n",
       "      <th>1014</th>\n",
       "      <td>7839707</td>\n",
       "      <td>uNMs41JK2j7</td>\n",
       "      <td>None</td>\n",
       "      <td>None</td>\n",
       "      <td>None</td>\n",
       "      <td>None</td>\n",
       "      <td>None</td>\n",
       "      <td>None</td>\n",
       "    </tr>\n",
       "    <tr>\n",
       "      <th>1015</th>\n",
       "      <td>7839708</td>\n",
       "      <td>X6j2oNQnPbP</td>\n",
       "      <td>None</td>\n",
       "      <td>None</td>\n",
       "      <td>None</td>\n",
       "      <td>None</td>\n",
       "      <td>None</td>\n",
       "      <td>None</td>\n",
       "    </tr>\n",
       "    <tr>\n",
       "      <th>1016</th>\n",
       "      <td>7839709</td>\n",
       "      <td>fr6IsBGWBij</td>\n",
       "      <td>None</td>\n",
       "      <td>None</td>\n",
       "      <td>None</td>\n",
       "      <td>None</td>\n",
       "      <td>None</td>\n",
       "      <td>None</td>\n",
       "    </tr>\n",
       "    <tr>\n",
       "      <th>1017</th>\n",
       "      <td>7839710</td>\n",
       "      <td>XYV3G9dNBO2</td>\n",
       "      <td>None</td>\n",
       "      <td>None</td>\n",
       "      <td>None</td>\n",
       "      <td>None</td>\n",
       "      <td>None</td>\n",
       "      <td>None</td>\n",
       "    </tr>\n",
       "    <tr>\n",
       "      <th>1018</th>\n",
       "      <td>7839711</td>\n",
       "      <td>tcILlX0W3if</td>\n",
       "      <td>None</td>\n",
       "      <td>None</td>\n",
       "      <td>None</td>\n",
       "      <td>None</td>\n",
       "      <td>None</td>\n",
       "      <td>None</td>\n",
       "    </tr>\n",
       "    <tr>\n",
       "      <th>1019</th>\n",
       "      <td>7839712</td>\n",
       "      <td>zEgbDqlud0x</td>\n",
       "      <td>None</td>\n",
       "      <td>None</td>\n",
       "      <td>None</td>\n",
       "      <td>None</td>\n",
       "      <td>None</td>\n",
       "      <td>None</td>\n",
       "    </tr>\n",
       "    <tr>\n",
       "      <th>1020</th>\n",
       "      <td>7839713</td>\n",
       "      <td>zJC3RpA15eu</td>\n",
       "      <td>None</td>\n",
       "      <td>None</td>\n",
       "      <td>None</td>\n",
       "      <td>None</td>\n",
       "      <td>None</td>\n",
       "      <td>None</td>\n",
       "    </tr>\n",
       "    <tr>\n",
       "      <th>1021</th>\n",
       "      <td>7839714</td>\n",
       "      <td>WnziS9vmokE</td>\n",
       "      <td>None</td>\n",
       "      <td>None</td>\n",
       "      <td>None</td>\n",
       "      <td>None</td>\n",
       "      <td>None</td>\n",
       "      <td>None</td>\n",
       "    </tr>\n",
       "    <tr>\n",
       "      <th>1022</th>\n",
       "      <td>7839715</td>\n",
       "      <td>VCjhEgPZNU1</td>\n",
       "      <td>None</td>\n",
       "      <td>None</td>\n",
       "      <td>None</td>\n",
       "      <td>None</td>\n",
       "      <td>None</td>\n",
       "      <td>None</td>\n",
       "    </tr>\n",
       "  </tbody>\n",
       "</table>\n",
       "<p>1023 rows × 8 columns</p>\n",
       "</div>"
      ],
      "text/plain": [
       "      categoryoptioncomboid          uid  code _datecreated  \\\n",
       "0                   8688567  r6zTEVft9H1  None         None   \n",
       "1                   8813495  lZUIAg6whIT  None         None   \n",
       "2                   8813496  xBF0SZh6k2f  None         None   \n",
       "3                   8813497  ejejj1FVTq2  None         None   \n",
       "4                   8813498  XzPlCAJe8jX  None         None   \n",
       "5                     20673  ieuodyY5ybC  None         None   \n",
       "6                     20674  bCfwecaPx2W  None         None   \n",
       "7                     20676  lHl2rmXpHse  None         None   \n",
       "8                     20677  SeDaCnHi3m5  None         None   \n",
       "9                     21258  omEDL5LVgDJ  None         None   \n",
       "10                    21259  g6112VF7T29  None         None   \n",
       "11                    21260  j03wX0lCHZc  None         None   \n",
       "12                    21261  vVketPHJwSY  None         None   \n",
       "13                    21268  wBWcFk7k1qY  None         None   \n",
       "14                    21325  sXgcr8o6TqL  None         None   \n",
       "15                    21615  Lj5arkL7GL8  None         None   \n",
       "16                    21616  ObiJr399QRt  None         None   \n",
       "17                    21617  bPNw3Km3Ug7  None         None   \n",
       "18                    21618  JUI7tesx6as  None         None   \n",
       "19                    21683  U4pOspYgS6C  None         None   \n",
       "20                    21684  BhEifF7qaMa  None         None   \n",
       "21                    21685  E001TwZacAM  None         None   \n",
       "22                    21686  UcbjkmT8m0e  None         None   \n",
       "23                    21687  PyfuYO3qlk2  None         None   \n",
       "24                    21688  uyHMrgHkWa4  None         None   \n",
       "25                    21689  K4bGFMZEuMW  None         None   \n",
       "26                    21690  cSmXmzTMZDN  None         None   \n",
       "27                   261754  WDafWKWrI84  None         None   \n",
       "28                   261755  XIQ1SeOshtt  None         None   \n",
       "29                   261756  RYmHjCLU2CB  None         None   \n",
       "...                     ...          ...   ...          ...   \n",
       "993                 7839686  JRPzrvKWxIU  None         None   \n",
       "994                 7839687  ZnAiy4Avkoo  None         None   \n",
       "995                 7839688  A6AJd72OBem  None         None   \n",
       "996                 7839689  Hd6rg3KwxWe  None         None   \n",
       "997                 7839690  Mn2LAHnCBHT  None         None   \n",
       "998                 7839691  py8ArdZAgVA  None         None   \n",
       "999                 7839692  qPTIGNYhKcP  None         None   \n",
       "1000                7839693  qVM5nQVj5Ll  None         None   \n",
       "1001                7839694  k4Xh1PG3s66  None         None   \n",
       "1002                7839695  KBOCcfnNK1v  None         None   \n",
       "1003                7839696  xDofrBdn4XL  None         None   \n",
       "1004                7839697  olBzxhSMSuU  None         None   \n",
       "1005                7839698  SPE6IGh6XHv  None         None   \n",
       "1006                7839699  fPke0YL2TaI  None         None   \n",
       "1007                7839700  Zq6Muz8NQkt  None         None   \n",
       "1008                7839701  YP4rvjo8uzQ  None         None   \n",
       "1009                7839702  lfvCtV9GtmS  None         None   \n",
       "1010                7839703  j3ojMzPeuvb  None         None   \n",
       "1011                7839704  mLrXxQcKIYb  None         None   \n",
       "1012                7839705  p8cYhLPM85h  None         None   \n",
       "1013                7839706  Q2fJIoTjXmH  None         None   \n",
       "1014                7839707  uNMs41JK2j7  None         None   \n",
       "1015                7839708  X6j2oNQnPbP  None         None   \n",
       "1016                7839709  fr6IsBGWBij  None         None   \n",
       "1017                7839710  XYV3G9dNBO2  None         None   \n",
       "1018                7839711  tcILlX0W3if  None         None   \n",
       "1019                7839712  zEgbDqlud0x  None         None   \n",
       "1020                7839713  zJC3RpA15eu  None         None   \n",
       "1021                7839714  WnziS9vmokE  None         None   \n",
       "1022                7839715  VCjhEgPZNU1  None         None   \n",
       "\n",
       "     _eventexecutionkey _lastaction _mergekey _sourcesystemcode  \n",
       "0                  None        None      None              None  \n",
       "1                  None        None      None              None  \n",
       "2                  None        None      None              None  \n",
       "3                  None        None      None              None  \n",
       "4                  None        None      None              None  \n",
       "5                  None        None      None              None  \n",
       "6                  None        None      None              None  \n",
       "7                  None        None      None              None  \n",
       "8                  None        None      None              None  \n",
       "9                  None        None      None              None  \n",
       "10                 None        None      None              None  \n",
       "11                 None        None      None              None  \n",
       "12                 None        None      None              None  \n",
       "13                 None        None      None              None  \n",
       "14                 None        None      None              None  \n",
       "15                 None        None      None              None  \n",
       "16                 None        None      None              None  \n",
       "17                 None        None      None              None  \n",
       "18                 None        None      None              None  \n",
       "19                 None        None      None              None  \n",
       "20                 None        None      None              None  \n",
       "21                 None        None      None              None  \n",
       "22                 None        None      None              None  \n",
       "23                 None        None      None              None  \n",
       "24                 None        None      None              None  \n",
       "25                 None        None      None              None  \n",
       "26                 None        None      None              None  \n",
       "27                 None        None      None              None  \n",
       "28                 None        None      None              None  \n",
       "29                 None        None      None              None  \n",
       "...                 ...         ...       ...               ...  \n",
       "993                None        None      None              None  \n",
       "994                None        None      None              None  \n",
       "995                None        None      None              None  \n",
       "996                None        None      None              None  \n",
       "997                None        None      None              None  \n",
       "998                None        None      None              None  \n",
       "999                None        None      None              None  \n",
       "1000               None        None      None              None  \n",
       "1001               None        None      None              None  \n",
       "1002               None        None      None              None  \n",
       "1003               None        None      None              None  \n",
       "1004               None        None      None              None  \n",
       "1005               None        None      None              None  \n",
       "1006               None        None      None              None  \n",
       "1007               None        None      None              None  \n",
       "1008               None        None      None              None  \n",
       "1009               None        None      None              None  \n",
       "1010               None        None      None              None  \n",
       "1011               None        None      None              None  \n",
       "1012               None        None      None              None  \n",
       "1013               None        None      None              None  \n",
       "1014               None        None      None              None  \n",
       "1015               None        None      None              None  \n",
       "1016               None        None      None              None  \n",
       "1017               None        None      None              None  \n",
       "1018               None        None      None              None  \n",
       "1019               None        None      None              None  \n",
       "1020               None        None      None              None  \n",
       "1021               None        None      None              None  \n",
       "1022               None        None      None              None  \n",
       "\n",
       "[1023 rows x 8 columns]"
      ]
     },
     "execution_count": 113,
     "metadata": {},
     "output_type": "execute_result"
    }
   ],
   "source": [
    "get_category_combos()"
   ]
  },
  {
   "cell_type": "code",
   "execution_count": null,
   "metadata": {
    "collapsed": true
   },
   "outputs": [],
   "source": []
  },
  {
   "cell_type": "code",
   "execution_count": null,
   "metadata": {
    "collapsed": true
   },
   "outputs": [],
   "source": []
  },
  {
   "cell_type": "code",
   "execution_count": 118,
   "metadata": {},
   "outputs": [],
   "source": [
    "def get_category_option_combo_by_uid(category_option_combo_id):\n",
    "    conn = get_connection()\n",
    "    all_category_option_combos = pd.DataFrame()\n",
    "    query =  '''SELECT * \n",
    "                FROM dim_dhis_categoryoptioncombo\n",
    "                WHERE uid = '%s'\n",
    "            ''' %(category_option_combo_id)\n",
    "    all_category_option_combos =  pd.read_sql(query, con=conn)\n",
    "        \n",
    "    \n",
    "    return all_category_option_combos"
   ]
  },
  {
   "cell_type": "code",
   "execution_count": 120,
   "metadata": {},
   "outputs": [
    {
     "data": {
      "text/html": [
       "<div>\n",
       "<style>\n",
       "    .dataframe thead tr:only-child th {\n",
       "        text-align: right;\n",
       "    }\n",
       "\n",
       "    .dataframe thead th {\n",
       "        text-align: left;\n",
       "    }\n",
       "\n",
       "    .dataframe tbody tr th {\n",
       "        vertical-align: top;\n",
       "    }\n",
       "</style>\n",
       "<table border=\"1\" class=\"dataframe\">\n",
       "  <thead>\n",
       "    <tr style=\"text-align: right;\">\n",
       "      <th></th>\n",
       "      <th>categoryoptioncomboid</th>\n",
       "      <th>uid</th>\n",
       "      <th>code</th>\n",
       "      <th>_datecreated</th>\n",
       "      <th>_eventexecutionkey</th>\n",
       "      <th>_lastaction</th>\n",
       "      <th>_mergekey</th>\n",
       "      <th>_sourcesystemcode</th>\n",
       "    </tr>\n",
       "  </thead>\n",
       "  <tbody>\n",
       "    <tr>\n",
       "      <th>0</th>\n",
       "      <td>15</td>\n",
       "      <td>NhSoXUMPK2K</td>\n",
       "      <td>None</td>\n",
       "      <td>None</td>\n",
       "      <td>None</td>\n",
       "      <td>None</td>\n",
       "      <td>None</td>\n",
       "      <td>None</td>\n",
       "    </tr>\n",
       "  </tbody>\n",
       "</table>\n",
       "</div>"
      ],
      "text/plain": [
       "   categoryoptioncomboid          uid  code _datecreated _eventexecutionkey  \\\n",
       "0                     15  NhSoXUMPK2K  None         None               None   \n",
       "\n",
       "  _lastaction _mergekey _sourcesystemcode  \n",
       "0        None      None              None  "
      ]
     },
     "execution_count": 120,
     "metadata": {},
     "output_type": "execute_result"
    }
   ],
   "source": [
    "get_category_option_combo_by_uid('NhSoXUMPK2K')"
   ]
  },
  {
   "cell_type": "code",
   "execution_count": null,
   "metadata": {
    "collapsed": true
   },
   "outputs": [],
   "source": []
  },
  {
   "cell_type": "code",
   "execution_count": null,
   "metadata": {
    "collapsed": true
   },
   "outputs": [],
   "source": [
    "\n",
    "def get_period_details(period_id, in_json=False):\n",
    "    ''' return period id details'''\n",
    "    conn = get_connection()\n",
    "    all_periods = pd.DataFrame()\n",
    "    query = \"SELECT * FROM dim_dhis_period WHERE periodid = %s ;\" %(period_id)\n",
    "    for chunk in pd.read_sql(query, con=conn, chunksize=10000):\n",
    "        all_periods = all_periods.append(chunk)\n",
    "    \n",
    "    return all_periods"
   ]
  },
  {
   "cell_type": "code",
   "execution_count": null,
   "metadata": {},
   "outputs": [],
   "source": [
    "periods =get_period_details(2506122, False)\n",
    "periods"
   ]
  },
  {
   "cell_type": "code",
   "execution_count": null,
   "metadata": {
    "collapsed": true
   },
   "outputs": [],
   "source": [
    "\n"
   ]
  },
  {
   "cell_type": "code",
   "execution_count": null,
   "metadata": {
    "collapsed": true
   },
   "outputs": [],
   "source": []
  },
  {
   "cell_type": "code",
   "execution_count": null,
   "metadata": {
    "collapsed": true
   },
   "outputs": [],
   "source": [
    "#get period ids from year\n",
    "def get_year_periods(year_id):\n",
    "    '''return all periods in the year specified '''\n",
    "    conn = get_connection()\n",
    "    all_periods = DataFrame()\n",
    "    #query = \"SELECT * FROM dim_dhis_period WHERE yearmonth LIKE\"\n",
    "    query = \"SELECT * FROM dim_dhis_period WHERE yearmonth @@ to_tsquery('%s')\" %(year_id)\n",
    "    for chunk in pd.read_sql(query, con=conn, chunksize=10000):\n",
    "        all_periods = all_periods.append(chunk)\n",
    "    \n",
    "    all_periods['year'] = all_periods['yearmonth'].str.split(' ').str[1]\n",
    "    all_periods['month'] = all_periods['yearmonth'].str.split(' ').str[2]\n",
    "    return all_periods\n",
    "    \n",
    "    "
   ]
  },
  {
   "cell_type": "code",
   "execution_count": null,
   "metadata": {},
   "outputs": [],
   "source": [
    "get_year_periods(2015)"
   ]
  },
  {
   "cell_type": "code",
   "execution_count": null,
   "metadata": {
    "collapsed": true
   },
   "outputs": [],
   "source": []
  },
  {
   "cell_type": "code",
   "execution_count": null,
   "metadata": {
    "collapsed": true
   },
   "outputs": [],
   "source": []
  },
  {
   "cell_type": "code",
   "execution_count": null,
   "metadata": {
    "collapsed": true
   },
   "outputs": [],
   "source": [
    "#get period ids from year\n",
    "def get_year_periodtypes(year_id, period_type_id):\n",
    "    '''return all periods in the year specified '''\n",
    "    conn = get_connection()\n",
    "    all_periods = DataFrame()\n",
    "    #query = \"SELECT * FROM dim_dhis_period WHERE yearmonth LIKE\"\n",
    "    query = \"SELECT * FROM dim_dhis_period WHERE yearmonth @@ to_tsquery('%s') AND periodtypeid = '%s'\" %(year_id,period_type_id)\n",
    "    for chunk in pd.read_sql(query, con=conn, chunksize=10000):\n",
    "        all_periods = all_periods.append(chunk)\n",
    "    \n",
    "    all_periods['year'] = all_periods['yearmonth'].str.split(' ').str[1]\n",
    "    all_periods['month'] = all_periods['yearmonth'].str.split(' ').str[2]\n",
    "    return all_periods"
   ]
  },
  {
   "cell_type": "code",
   "execution_count": null,
   "metadata": {},
   "outputs": [],
   "source": [
    "get_year_periodtypes(2014,5)"
   ]
  },
  {
   "cell_type": "code",
   "execution_count": null,
   "metadata": {
    "collapsed": true
   },
   "outputs": [],
   "source": []
  },
  {
   "cell_type": "code",
   "execution_count": null,
   "metadata": {
    "collapsed": true
   },
   "outputs": [],
   "source": [
    "#get period ids from year\n",
    "def get_year_month_periods(year, month):\n",
    "    '''return all periods in the year specified '''\n",
    "    conn = get_connection()\n",
    "    all_periods = DataFrame()\n",
    "    #query = \"SELECT * FROM dim_dhis_period WHERE yearmonth LIKE\"\n",
    "    query = \"SELECT * FROM dim_dhis_period WHERE yearmonth @@ to_tsquery('%s &%s')\" %(year, month)    \n",
    "    for chunk in pd.read_sql(query, con=conn, chunksize=10000):\n",
    "        all_periods = all_periods.append(chunk)\n",
    "    \n",
    "    return all_periods\n",
    "    "
   ]
  },
  {
   "cell_type": "code",
   "execution_count": null,
   "metadata": {
    "scrolled": true
   },
   "outputs": [],
   "source": [
    "get_year_month_periods(2015,1)"
   ]
  },
  {
   "cell_type": "code",
   "execution_count": null,
   "metadata": {
    "collapsed": true
   },
   "outputs": [],
   "source": []
  },
  {
   "cell_type": "code",
   "execution_count": null,
   "metadata": {
    "collapsed": true
   },
   "outputs": [],
   "source": []
  },
  {
   "cell_type": "code",
   "execution_count": null,
   "metadata": {
    "collapsed": true
   },
   "outputs": [],
   "source": [
    "#get a specific facility\n",
    "def get_facility_by_id(facility_id):\n",
    "    conn = get_connection()\n",
    "    all_facilities = pd.DataFrame()\n",
    "    query = \"SELECT * FROM facilities_facility WHERE id = '%s' ;\" %(facility_id)    \n",
    "    for chunk in pd.read_sql(query, con=conn, chunksize=10000):\n",
    "        all_facilities = all_facilities.append(chunk)\n",
    "\n",
    "    \n",
    "    return all_facilities"
   ]
  },
  {
   "cell_type": "code",
   "execution_count": null,
   "metadata": {},
   "outputs": [],
   "source": [
    "get_facility_by_id(\"da850a5f-df4e-4650-b950-2f86839748f7\")"
   ]
  },
  {
   "cell_type": "code",
   "execution_count": null,
   "metadata": {
    "collapsed": true
   },
   "outputs": [],
   "source": []
  },
  {
   "cell_type": "code",
   "execution_count": null,
   "metadata": {
    "collapsed": true
   },
   "outputs": [],
   "source": []
  },
  {
   "cell_type": "code",
   "execution_count": null,
   "metadata": {
    "collapsed": true
   },
   "outputs": [],
   "source": [
    "def get_period_by_id(period_id):\n",
    "    '''return all periods in the year specified '''\n",
    "    conn = get_connection()\n",
    "    all_periods = DataFrame()\n",
    "    #query = \"SELECT * FROM dim_dhis_period WHERE yearmonth LIKE\"\n",
    "    query = \"SELECT * FROM dim_dhis_period WHERE periodid = %s\" %(period_id)    \n",
    "    for chunk in pd.read_sql(query, con=conn, chunksize=10000):\n",
    "        all_periods = all_periods.append(chunk)\n",
    "    \n",
    "    \n",
    "    return all_periods"
   ]
  },
  {
   "cell_type": "code",
   "execution_count": null,
   "metadata": {},
   "outputs": [],
   "source": [
    "get_period_by_id(2505073)"
   ]
  },
  {
   "cell_type": "code",
   "execution_count": null,
   "metadata": {
    "collapsed": true
   },
   "outputs": [],
   "source": []
  },
  {
   "cell_type": "code",
   "execution_count": null,
   "metadata": {
    "collapsed": true
   },
   "outputs": [],
   "source": []
  },
  {
   "cell_type": "code",
   "execution_count": null,
   "metadata": {
    "collapsed": true
   },
   "outputs": [],
   "source": [
    "def get_facility_org_units(facility_id):\n",
    "    conn = get_connection()\n",
    "    #get the facility    \n",
    "    query = ''' SELECT  a.organisationunitid, a.code, b.name\n",
    "                FROM dim_dhis_organisationunit a , facilities_facility b\n",
    "                WHERE a.code = CAST(b.code as VarChar) AND b.id = '%s' ''' %(facility_id)\n",
    "    \n",
    "    facility_orgunit = pd.read_sql(query,conn)\n",
    "    \n",
    "    return facility_orgunit"
   ]
  },
  {
   "cell_type": "code",
   "execution_count": null,
   "metadata": {},
   "outputs": [],
   "source": [
    "get_facility_org_units(\"da850a5f-df4e-4650-b950-2f86839748f7\")"
   ]
  },
  {
   "cell_type": "code",
   "execution_count": null,
   "metadata": {
    "collapsed": true
   },
   "outputs": [],
   "source": []
  },
  {
   "cell_type": "code",
   "execution_count": null,
   "metadata": {
    "collapsed": true
   },
   "outputs": [],
   "source": []
  },
  {
   "cell_type": "code",
   "execution_count": null,
   "metadata": {
    "collapsed": true
   },
   "outputs": [],
   "source": [
    "#get period ids from year\n",
    "def get_facility_indicator_calculated_valued():\n",
    "    '''return all indicator values  '''\n",
    "    conn = get_connection()\n",
    "    all_indicator_values = DataFrame()\n",
    "    \n",
    "    query = \"select * from fact_dhis_indicatorcalculatedvalues limit 100000;\"\n",
    "    for chunk in pd.read_sql(query, con=conn, chunksize=10000):\n",
    "        all_indicator_values = all_indicator_values.append(chunk)\n",
    "    \n",
    "    return all_indicator_values\n",
    "    "
   ]
  },
  {
   "cell_type": "code",
   "execution_count": null,
   "metadata": {
    "collapsed": true
   },
   "outputs": [],
   "source": [
    "ind = get_facility_indicator_calculated_valued()"
   ]
  },
  {
   "cell_type": "code",
   "execution_count": null,
   "metadata": {
    "collapsed": true,
    "scrolled": true
   },
   "outputs": [],
   "source": []
  },
  {
   "cell_type": "code",
   "execution_count": null,
   "metadata": {
    "collapsed": true,
    "scrolled": true
   },
   "outputs": [],
   "source": []
  },
  {
   "cell_type": "code",
   "execution_count": null,
   "metadata": {
    "collapsed": true
   },
   "outputs": [],
   "source": []
  },
  {
   "cell_type": "code",
   "execution_count": null,
   "metadata": {
    "collapsed": true
   },
   "outputs": [],
   "source": []
  },
  {
   "cell_type": "code",
   "execution_count": null,
   "metadata": {
    "collapsed": true
   },
   "outputs": [],
   "source": [
    "def get_period_types():\n",
    "    '''return all period types'''\n",
    "    conn = get_connection()\n",
    "    all_period_types = DataFrame()\n",
    "    \n",
    "    query = \"select DISTINCT(periodtypename) as name, periodtypeid as id  from dim_dhis_period;\"\n",
    "    for chunk in pd.read_sql(query, con=conn, chunksize=10000):\n",
    "        all_period_types = all_period_types.append(chunk)\n",
    "    \n",
    "    return all_period_types"
   ]
  },
  {
   "cell_type": "code",
   "execution_count": null,
   "metadata": {},
   "outputs": [],
   "source": [
    "get_period_types()"
   ]
  },
  {
   "cell_type": "code",
   "execution_count": null,
   "metadata": {
    "collapsed": true
   },
   "outputs": [],
   "source": []
  },
  {
   "cell_type": "code",
   "execution_count": null,
   "metadata": {
    "collapsed": true
   },
   "outputs": [],
   "source": []
  },
  {
   "cell_type": "code",
   "execution_count": null,
   "metadata": {
    "collapsed": true
   },
   "outputs": [],
   "source": [
    "def get_indicator_values(indicator_id, facility_id, period_id):\n",
    "    '''return all period types'''\n",
    "    conn = get_connection()\n",
    "    all_period_types = DataFrame()\n",
    "    \n",
    "    query = \"select DISTINCT(periodtypename) as name, periodtypeid as id  from dim_dhis_period;\"\n",
    "    for chunk in pd.read_sql(query, con=conn, chunksize=10000):\n",
    "        all_period_types = all_period_types.append(chunk)\n",
    "    \n",
    "    return all_period_types"
   ]
  },
  {
   "cell_type": "code",
   "execution_count": null,
   "metadata": {
    "collapsed": true
   },
   "outputs": [],
   "source": []
  },
  {
   "cell_type": "code",
   "execution_count": null,
   "metadata": {
    "collapsed": true
   },
   "outputs": [],
   "source": []
  },
  {
   "cell_type": "code",
   "execution_count": null,
   "metadata": {
    "collapsed": true
   },
   "outputs": [],
   "source": [
    "def get_facility_dataelement_datavalues(dataelement_id, source_id, period_id):\n",
    "    conn = get_connection()\n",
    "    all_datavalues = DataFrame()\n",
    "    \n",
    "    query = ''' SELECT a.* \n",
    "                FROM fact_dhis_datavalue a , dim_dhis_dataelement b\n",
    "                WHERE a.dataelementid = b.dataelementid\n",
    "                AND b.uid = '%s' \n",
    "                AND a.sourceid = %s \n",
    "                AND a.periodid = '%s'; ''' %(dataelement_id, source_id, period_id)\n",
    "    all_datavalues = pd.read_sql(query, con=conn )        \n",
    "    \n",
    "    return all_datavalues"
   ]
  },
  {
   "cell_type": "code",
   "execution_count": 112,
   "metadata": {},
   "outputs": [
    {
     "data": {
      "text/html": [
       "<div>\n",
       "<style>\n",
       "    .dataframe thead tr:only-child th {\n",
       "        text-align: right;\n",
       "    }\n",
       "\n",
       "    .dataframe thead th {\n",
       "        text-align: left;\n",
       "    }\n",
       "\n",
       "    .dataframe tbody tr th {\n",
       "        vertical-align: top;\n",
       "    }\n",
       "</style>\n",
       "<table border=\"1\" class=\"dataframe\">\n",
       "  <thead>\n",
       "    <tr style=\"text-align: right;\">\n",
       "      <th></th>\n",
       "      <th>dataelementid</th>\n",
       "      <th>periodid</th>\n",
       "      <th>sourceid</th>\n",
       "      <th>categoryoptioncomboid</th>\n",
       "      <th>attributeoptioncomboid</th>\n",
       "      <th>value</th>\n",
       "      <th>storedby</th>\n",
       "      <th>lastupdated</th>\n",
       "      <th>comment</th>\n",
       "      <th>followup</th>\n",
       "      <th>created</th>\n",
       "      <th>_datecreated</th>\n",
       "      <th>_eventexecutionkey</th>\n",
       "      <th>_lastaction</th>\n",
       "      <th>_mergekey</th>\n",
       "      <th>_sourcesystemcode</th>\n",
       "    </tr>\n",
       "  </thead>\n",
       "  <tbody>\n",
       "    <tr>\n",
       "      <th>0</th>\n",
       "      <td>33731</td>\n",
       "      <td>1185021</td>\n",
       "      <td>44911</td>\n",
       "      <td>15</td>\n",
       "      <td>15</td>\n",
       "      <td>2</td>\n",
       "      <td>Gilbert Amburosi</td>\n",
       "      <td>2015-03-25 21:55:13.344</td>\n",
       "      <td>None</td>\n",
       "      <td>False</td>\n",
       "      <td>2015-01-14 14:58:47.692</td>\n",
       "      <td>2015-12-17</td>\n",
       "      <td>None</td>\n",
       "      <td>None</td>\n",
       "      <td>None</td>\n",
       "      <td>None</td>\n",
       "    </tr>\n",
       "  </tbody>\n",
       "</table>\n",
       "</div>"
      ],
      "text/plain": [
       "   dataelementid  periodid  sourceid  categoryoptioncomboid  \\\n",
       "0          33731   1185021     44911                     15   \n",
       "\n",
       "   attributeoptioncomboid value          storedby             lastupdated  \\\n",
       "0                      15     2  Gilbert Amburosi 2015-03-25 21:55:13.344   \n",
       "\n",
       "  comment  followup                 created _datecreated _eventexecutionkey  \\\n",
       "0    None     False 2015-01-14 14:58:47.692   2015-12-17               None   \n",
       "\n",
       "  _lastaction _mergekey _sourcesystemcode  \n",
       "0        None      None              None  "
      ]
     },
     "execution_count": 112,
     "metadata": {},
     "output_type": "execute_result"
    }
   ],
   "source": [
    "get_facility_dataelement_datavalues('GCAkHwMAWM6','44911', '1185021')"
   ]
  },
  {
   "cell_type": "code",
   "execution_count": null,
   "metadata": {
    "collapsed": true
   },
   "outputs": [],
   "source": []
  },
  {
   "cell_type": "code",
   "execution_count": null,
   "metadata": {
    "collapsed": true
   },
   "outputs": [],
   "source": []
  },
  {
   "cell_type": "code",
   "execution_count": 175,
   "metadata": {
    "collapsed": true
   },
   "outputs": [],
   "source": [
    "def get_facility_dataelement_datavalues(dataelement_id, source_id, period_id, category_combo_id=None):\n",
    "    conn = get_connection()\n",
    "    all_datavalues = DataFrame()\n",
    "    \n",
    "    if category_combo_id:\n",
    "        query = ''' SELECT a.* \n",
    "                    FROM fact_dhis_datavalue a , dim_dhis_dataelement b\n",
    "                    WHERE a.dataelementid = b.dataelementid\n",
    "                    AND b.uid = '%s' \n",
    "                    AND a.sourceid = %s \n",
    "                    AND a.periodid = '%s'\n",
    "                    AND a.categoryoptioncomboid = '%s' ''' %(dataelement_id, source_id, period_id, category_combo_id)\n",
    "    else:\n",
    "        query = ''' SELECT a.* \n",
    "                FROM fact_dhis_datavalue a , dim_dhis_dataelement b\n",
    "                WHERE a.dataelementid = b.dataelementid\n",
    "                AND b.uid = '%s' \n",
    "                AND a.sourceid = %s \n",
    "                AND a.periodid = '%s'; ''' %(dataelement_id, source_id, period_id)\n",
    "    all_datavalues = pd.read_sql(query, con=conn )        \n",
    "    \n",
    "    return all_datavalues"
   ]
  },
  {
   "cell_type": "code",
   "execution_count": 174,
   "metadata": {},
   "outputs": [
    {
     "data": {
      "text/html": [
       "<div>\n",
       "<style>\n",
       "    .dataframe thead tr:only-child th {\n",
       "        text-align: right;\n",
       "    }\n",
       "\n",
       "    .dataframe thead th {\n",
       "        text-align: left;\n",
       "    }\n",
       "\n",
       "    .dataframe tbody tr th {\n",
       "        vertical-align: top;\n",
       "    }\n",
       "</style>\n",
       "<table border=\"1\" class=\"dataframe\">\n",
       "  <thead>\n",
       "    <tr style=\"text-align: right;\">\n",
       "      <th></th>\n",
       "      <th>dataelementid</th>\n",
       "      <th>periodid</th>\n",
       "      <th>sourceid</th>\n",
       "      <th>categoryoptioncomboid</th>\n",
       "      <th>attributeoptioncomboid</th>\n",
       "      <th>value</th>\n",
       "      <th>storedby</th>\n",
       "      <th>lastupdated</th>\n",
       "      <th>comment</th>\n",
       "      <th>followup</th>\n",
       "      <th>created</th>\n",
       "      <th>_datecreated</th>\n",
       "      <th>_eventexecutionkey</th>\n",
       "      <th>_lastaction</th>\n",
       "      <th>_mergekey</th>\n",
       "      <th>_sourcesystemcode</th>\n",
       "    </tr>\n",
       "  </thead>\n",
       "  <tbody>\n",
       "  </tbody>\n",
       "</table>\n",
       "</div>"
      ],
      "text/plain": [
       "Empty DataFrame\n",
       "Columns: [dataelementid, periodid, sourceid, categoryoptioncomboid, attributeoptioncomboid, value, storedby, lastupdated, comment, followup, created, _datecreated, _eventexecutionkey, _lastaction, _mergekey, _sourcesystemcode]\n",
       "Index: []"
      ]
     },
     "execution_count": 174,
     "metadata": {},
     "output_type": "execute_result"
    }
   ],
   "source": [
    "get_facility_dataelement_datavalues('TJMdle70A7X','44911', '723795', 15)"
   ]
  },
  {
   "cell_type": "code",
   "execution_count": null,
   "metadata": {
    "collapsed": true
   },
   "outputs": [],
   "source": []
  },
  {
   "cell_type": "code",
   "execution_count": null,
   "metadata": {
    "collapsed": true
   },
   "outputs": [],
   "source": []
  },
  {
   "cell_type": "code",
   "execution_count": null,
   "metadata": {
    "collapsed": true
   },
   "outputs": [],
   "source": [
    "def get_facility_category_datavalues(dataelement_id, source_id, period_id):\n",
    "    conn = get_connection()\n",
    "    all_datavalues = DataFrame()\n",
    "    \n",
    "    query = ''' SELECT a.* \n",
    "                FROM fact_dhis_datavalue a , dim_dhis_dataelement b\n",
    "                WHERE a.dataelementid = b.dataelementid\n",
    "                AND b.uid = '%s' \n",
    "                AND a.sourceid = %s \n",
    "                AND a.periodid = '%s'; ''' %(dataelement_id, source_id, period_id)\n",
    "    all_datavalues = pd.read_sql(query, con=conn )        \n",
    "    \n",
    "    return all_datavalues"
   ]
  },
  {
   "cell_type": "code",
   "execution_count": null,
   "metadata": {
    "collapsed": true
   },
   "outputs": [],
   "source": []
  },
  {
   "cell_type": "code",
   "execution_count": 203,
   "metadata": {},
   "outputs": [],
   "source": [
    "def get_indicator_values(facility_id, indicator_id, period_type, year ):\n",
    "    conn = get_connection()\n",
    "    indicator = get_indicator_by_id(indicator_id).loc[0]\n",
    "    periods = get_year_periodtypes(year,period_type)\n",
    "    facility = get_facility_org_units(facility_id).loc[0]\n",
    "    pattern = \"[a-zA-Z0-9]+\\.[a-zA-Z0-9]+|[a-zA-Z0-9]+\"\n",
    "\n",
    "\n",
    "\n",
    "    numerator_dataelements = re.findall(pattern,indicator['numerator'])\n",
    "    denominator_dataelements = re.findall(pattern,indicator['denominator'])\n",
    "\n",
    "    #iterate through \n",
    "    for col, period in periods.iterrows():\n",
    "        numerator = indicator['numerator'] \n",
    "\n",
    "        for datelement_category_combo in numerator_dataelements:                       \n",
    "            dataelement = re.sub('\\.','' , re.findall(\"[a-zA-Z0-9]+\\.\", datelement_category_combo)[0]) \n",
    "            combo = re.findall(\"\\.[a-zA-Z0-9]+\", datelement_category_combo)\n",
    "            if combo:\n",
    "                combo = re.sub('\\.','', combo[0])\n",
    "                combo_uid = get_category_option_combo_by_uid(combo).loc[0]['categoryoptioncomboid']\n",
    "            else:\n",
    "                combo_uid = None\n",
    "\n",
    "            value = get_facility_dataelement_datavalues(dataelement, facility['organisationunitid'], period['periodid'], combo_uid)\n",
    "\n",
    "            if value.empty:            \n",
    "                numerator = re.sub( \"#{\" + datelement_category_combo +\"}\" ,'0',numerator)                \n",
    "            else:\n",
    "                numerator = re.sub(\"#{\" + datelement_category_combo +\"}\" ,value.loc[0]['value'],numerator)                \n",
    "\n",
    "        \n",
    "        \n",
    "        denominator = indicator['denominator']\n",
    "        for datelement_category_combo in denominator_dataelements:                       \n",
    "            dataelement = re.sub('\\.','' , re.findall(\"[a-zA-Z0-9]+\\.\", datelement_category_combo)[0]) \n",
    "            combo = re.findall(\"\\.[a-zA-Z0-9]+\", datelement_category_combo)\n",
    "            if combo:\n",
    "                combo = re.sub('\\.','', combo[0])\n",
    "                combo_uid = get_category_option_combo_by_uid(combo).loc[0]['categoryoptioncomboid']\n",
    "            else:\n",
    "                combo_uid = None\n",
    "\n",
    "            value = get_facility_dataelement_datavalues(dataelement, facility['organisationunitid'], period['periodid'], combo_uid)\n",
    "            if value.empty:      \n",
    "                denominator = re.sub( \"#{\" + datelement_category_combo +\"}\" ,'0',denominator)                \n",
    "            else:\n",
    "                denominator = re.sub(\"#{\" + datelement_category_combo +\"}\" ,value.loc[0]['value'],denominator)                \n",
    "        print( eval(denominator))\n",
    "\n",
    "    \n",
    "    \n",
    "            \n",
    "          \n",
    "        "
   ]
  },
  {
   "cell_type": "code",
   "execution_count": 204,
   "metadata": {},
   "outputs": [
    {
     "name": "stdout",
     "output_type": "stream",
     "text": [
      "45\n",
      "0\n",
      "64\n",
      "60\n",
      "49\n",
      "48\n",
      "69\n",
      "49\n",
      "36\n",
      "44\n",
      "38\n",
      "48\n"
     ]
    }
   ],
   "source": [
    "get_indicator_values('028d858c-c21d-4391-b4eb-7fea8ef0cb32',61829,5,2014)"
   ]
  },
  {
   "cell_type": "code",
   "execution_count": 170,
   "metadata": {},
   "outputs": [
    {
     "data": {
      "text/html": [
       "<div>\n",
       "<style>\n",
       "    .dataframe thead tr:only-child th {\n",
       "        text-align: right;\n",
       "    }\n",
       "\n",
       "    .dataframe thead th {\n",
       "        text-align: left;\n",
       "    }\n",
       "\n",
       "    .dataframe tbody tr th {\n",
       "        vertical-align: top;\n",
       "    }\n",
       "</style>\n",
       "<table border=\"1\" class=\"dataframe\">\n",
       "  <thead>\n",
       "    <tr style=\"text-align: right;\">\n",
       "      <th></th>\n",
       "      <th>categoryoptioncomboid</th>\n",
       "      <th>uid</th>\n",
       "      <th>code</th>\n",
       "      <th>_datecreated</th>\n",
       "      <th>_eventexecutionkey</th>\n",
       "      <th>_lastaction</th>\n",
       "      <th>_mergekey</th>\n",
       "      <th>_sourcesystemcode</th>\n",
       "    </tr>\n",
       "  </thead>\n",
       "  <tbody>\n",
       "    <tr>\n",
       "      <th>0</th>\n",
       "      <td>15</td>\n",
       "      <td>NhSoXUMPK2K</td>\n",
       "      <td>None</td>\n",
       "      <td>None</td>\n",
       "      <td>None</td>\n",
       "      <td>None</td>\n",
       "      <td>None</td>\n",
       "      <td>None</td>\n",
       "    </tr>\n",
       "  </tbody>\n",
       "</table>\n",
       "</div>"
      ],
      "text/plain": [
       "   categoryoptioncomboid          uid  code _datecreated _eventexecutionkey  \\\n",
       "0                     15  NhSoXUMPK2K  None         None               None   \n",
       "\n",
       "  _lastaction _mergekey _sourcesystemcode  \n",
       "0        None      None              None  "
      ]
     },
     "execution_count": 170,
     "metadata": {},
     "output_type": "execute_result"
    }
   ],
   "source": [
    "get_category_option_combo_by_uid(\"NhSoXUMPK2K\")"
   ]
  },
  {
   "cell_type": "code",
   "execution_count": null,
   "metadata": {
    "collapsed": true
   },
   "outputs": [],
   "source": []
  },
  {
   "cell_type": "code",
   "execution_count": 181,
   "metadata": {
    "scrolled": true
   },
   "outputs": [
    {
     "data": {
      "text/html": [
       "<div>\n",
       "<style>\n",
       "    .dataframe thead tr:only-child th {\n",
       "        text-align: right;\n",
       "    }\n",
       "\n",
       "    .dataframe thead th {\n",
       "        text-align: left;\n",
       "    }\n",
       "\n",
       "    .dataframe tbody tr th {\n",
       "        vertical-align: top;\n",
       "    }\n",
       "</style>\n",
       "<table border=\"1\" class=\"dataframe\">\n",
       "  <thead>\n",
       "    <tr style=\"text-align: right;\">\n",
       "      <th></th>\n",
       "      <th>id</th>\n",
       "      <th>deleted</th>\n",
       "      <th>active</th>\n",
       "      <th>name</th>\n",
       "      <th>official_name</th>\n",
       "      <th>code</th>\n",
       "      <th>registration_number</th>\n",
       "      <th>abbreviation</th>\n",
       "      <th>description</th>\n",
       "      <th>number_of_beds</th>\n",
       "      <th>...</th>\n",
       "      <th>_effectivefrom</th>\n",
       "      <th>_effectiveto</th>\n",
       "      <th>ward_id</th>\n",
       "      <th>facility_type_id</th>\n",
       "      <th>keph_level_id</th>\n",
       "      <th>owner_id</th>\n",
       "      <th>parent_id</th>\n",
       "      <th>sub_county_id</th>\n",
       "      <th>town_id</th>\n",
       "      <th>facility_sk</th>\n",
       "    </tr>\n",
       "  </thead>\n",
       "  <tbody>\n",
       "    <tr>\n",
       "      <th>0</th>\n",
       "      <td>028d858c-c21d-4391-b4eb-7fea8ef0cb32</td>\n",
       "      <td>False</td>\n",
       "      <td>True</td>\n",
       "      <td>Amukura Health Centre</td>\n",
       "      <td>Amukura Health Centre</td>\n",
       "      <td>15798</td>\n",
       "      <td>None</td>\n",
       "      <td>None</td>\n",
       "      <td>None</td>\n",
       "      <td>12</td>\n",
       "      <td>...</td>\n",
       "      <td>1900-01-01</td>\n",
       "      <td>2199-12-31</td>\n",
       "      <td>7d4e1923-8135-4d4d-a7f8-7cd29443b0ec</td>\n",
       "      <td>a9385618-1d55-4768-a0ab-df1ad1cade21</td>\n",
       "      <td>2fb834bd-dfb9-4aab-8102-071077b7394c</td>\n",
       "      <td>1b0b8814-a3d0-4e76-bfc9-4dea62a58b60</td>\n",
       "      <td>None</td>\n",
       "      <td>None</td>\n",
       "      <td>22544396-d00f-4bb4-9ecb-b37b9278ba72</td>\n",
       "      <td>3135</td>\n",
       "    </tr>\n",
       "  </tbody>\n",
       "</table>\n",
       "<p>1 rows × 48 columns</p>\n",
       "</div>"
      ],
      "text/plain": [
       "                                     id  deleted  active  \\\n",
       "0  028d858c-c21d-4391-b4eb-7fea8ef0cb32    False    True   \n",
       "\n",
       "                    name          official_name   code registration_number  \\\n",
       "0  Amukura Health Centre  Amukura Health Centre  15798                None   \n",
       "\n",
       "  abbreviation description  number_of_beds     ...       _effectivefrom  \\\n",
       "0         None        None              12     ...           1900-01-01   \n",
       "\n",
       "   _effectiveto                               ward_id  \\\n",
       "0    2199-12-31  7d4e1923-8135-4d4d-a7f8-7cd29443b0ec   \n",
       "\n",
       "                       facility_type_id                         keph_level_id  \\\n",
       "0  a9385618-1d55-4768-a0ab-df1ad1cade21  2fb834bd-dfb9-4aab-8102-071077b7394c   \n",
       "\n",
       "                               owner_id  parent_id sub_county_id  \\\n",
       "0  1b0b8814-a3d0-4e76-bfc9-4dea62a58b60       None          None   \n",
       "\n",
       "                                town_id  facility_sk  \n",
       "0  22544396-d00f-4bb4-9ecb-b37b9278ba72         3135  \n",
       "\n",
       "[1 rows x 48 columns]"
      ]
     },
     "execution_count": 181,
     "metadata": {},
     "output_type": "execute_result"
    }
   ],
   "source": [
    "conn = get_connection()\n",
    "# pd.read_sql( ('''Select * from dim_dhis_dataelement  where dataelementid = '%s' ''' %(33731)),  conn)\n",
    "# pd.read_sql( ('''Select * from dim_dhis_dataelement  where uid = '%s' ''' %('TJMdle70A7X')),  conn)\n",
    "# pd.read_sql( ('''Select * from dim_dhis_categoryoptioncombo  where uid = '%s' ''' %('NhSoXUMPK2K')),  conn)\n",
    "# pd.read_sql( ('''select * from dim_dhis_period where periodid = '%s' ''' %(1185021)), conn)\n",
    "# pd.read_sql( ('''select * from dim_dhis_organisationunit where organisationunitid = '%s' ''' %(44911)), conn)\n",
    "pd.read_sql( ('''select * from facilities_facility where code = '%s' ''' %(15798)), conn)"
   ]
  },
  {
   "cell_type": "code",
   "execution_count": null,
   "metadata": {
    "collapsed": true
   },
   "outputs": [],
   "source": []
  },
  {
   "cell_type": "code",
   "execution_count": null,
   "metadata": {
    "collapsed": true
   },
   "outputs": [],
   "source": []
  },
  {
   "cell_type": "code",
   "execution_count": null,
   "metadata": {},
   "outputs": [],
   "source": [
    "pd.read_sql('SELECT * from fact_dhis_datavalue limit 1000',conn)"
   ]
  },
  {
   "cell_type": "code",
   "execution_count": null,
   "metadata": {
    "collapsed": true
   },
   "outputs": [],
   "source": []
  },
  {
   "cell_type": "code",
   "execution_count": 182,
   "metadata": {},
   "outputs": [
    {
     "data": {
      "text/html": [
       "<div>\n",
       "<style>\n",
       "    .dataframe thead tr:only-child th {\n",
       "        text-align: right;\n",
       "    }\n",
       "\n",
       "    .dataframe thead th {\n",
       "        text-align: left;\n",
       "    }\n",
       "\n",
       "    .dataframe tbody tr th {\n",
       "        vertical-align: top;\n",
       "    }\n",
       "</style>\n",
       "<table border=\"1\" class=\"dataframe\">\n",
       "  <thead>\n",
       "    <tr style=\"text-align: right;\">\n",
       "      <th></th>\n",
       "      <th>indicatorid</th>\n",
       "      <th>indicatorname</th>\n",
       "      <th>shortname</th>\n",
       "      <th>code</th>\n",
       "      <th>description</th>\n",
       "      <th>annualized</th>\n",
       "      <th>indicatortypeid</th>\n",
       "      <th>indicatortypename</th>\n",
       "      <th>indicatortypefactor</th>\n",
       "      <th>indicatortypenumber</th>\n",
       "      <th>...</th>\n",
       "      <th>denominator</th>\n",
       "      <th>denominatordescription</th>\n",
       "      <th>uid</th>\n",
       "      <th>denominatorsql</th>\n",
       "      <th>numeratorsql</th>\n",
       "      <th>_datecreated</th>\n",
       "      <th>_eventexecutionkey</th>\n",
       "      <th>_lastaction</th>\n",
       "      <th>_mergekey</th>\n",
       "      <th>_sourcesystemcode</th>\n",
       "    </tr>\n",
       "  </thead>\n",
       "  <tbody>\n",
       "    <tr>\n",
       "      <th>373</th>\n",
       "      <td>61829</td>\n",
       "      <td>PMTCT Positivity at ANC</td>\n",
       "      <td>PMTCT Positivity at ANC</td>\n",
       "      <td>None</td>\n",
       "      <td>([HV02-05] + [HV02-06]) / [Integrated RH, HIVA...</td>\n",
       "      <td>False</td>\n",
       "      <td>21017</td>\n",
       "      <td>Percentage</td>\n",
       "      <td>100</td>\n",
       "      <td>False</td>\n",
       "      <td>...</td>\n",
       "      <td>#{f9vesk5d4IY.NhSoXUMPK2K}</td>\n",
       "      <td>New ANC clients (ANC 1st Visit)</td>\n",
       "      <td>None</td>\n",
       "      <td>SELECT value1 as denominator FROM  (SELECT  CO...</td>\n",
       "      <td>SELECT value1+value2 as numerator FROM  (SELEC...</td>\n",
       "      <td>2016-02-01</td>\n",
       "      <td>None</td>\n",
       "      <td>I</td>\n",
       "      <td>None</td>\n",
       "      <td>None</td>\n",
       "    </tr>\n",
       "    <tr>\n",
       "      <th>712</th>\n",
       "      <td>477152</td>\n",
       "      <td>Total number of HIV-positive pregnant women in...</td>\n",
       "      <td>Total number of HIV-positive pregnant</td>\n",
       "      <td>None</td>\n",
       "      <td>None</td>\n",
       "      <td>False</td>\n",
       "      <td>23696</td>\n",
       "      <td>Number</td>\n",
       "      <td>1</td>\n",
       "      <td>True</td>\n",
       "      <td>...</td>\n",
       "      <td>1</td>\n",
       "      <td>None</td>\n",
       "      <td>None</td>\n",
       "      <td>SELECT 1 as denominator</td>\n",
       "      <td>SELECT value1+value2 as numerator FROM  (SELEC...</td>\n",
       "      <td>2016-02-01</td>\n",
       "      <td>None</td>\n",
       "      <td>I</td>\n",
       "      <td>None</td>\n",
       "      <td>None</td>\n",
       "    </tr>\n",
       "  </tbody>\n",
       "</table>\n",
       "<p>2 rows × 23 columns</p>\n",
       "</div>"
      ],
      "text/plain": [
       "     indicatorid                                      indicatorname  \\\n",
       "373        61829                            PMTCT Positivity at ANC   \n",
       "712       477152  Total number of HIV-positive pregnant women in...   \n",
       "\n",
       "                                 shortname  code  \\\n",
       "373                PMTCT Positivity at ANC  None   \n",
       "712  Total number of HIV-positive pregnant  None   \n",
       "\n",
       "                                           description  annualized  \\\n",
       "373  ([HV02-05] + [HV02-06]) / [Integrated RH, HIVA...       False   \n",
       "712                                               None       False   \n",
       "\n",
       "     indicatortypeid indicatortypename  indicatortypefactor  \\\n",
       "373            21017        Percentage                  100   \n",
       "712            23696            Number                    1   \n",
       "\n",
       "     indicatortypenumber        ...                        denominator  \\\n",
       "373                False        ...         #{f9vesk5d4IY.NhSoXUMPK2K}   \n",
       "712                 True        ...                                  1   \n",
       "\n",
       "              denominatordescription   uid  \\\n",
       "373  New ANC clients (ANC 1st Visit)  None   \n",
       "712                             None  None   \n",
       "\n",
       "                                        denominatorsql  \\\n",
       "373  SELECT value1 as denominator FROM  (SELECT  CO...   \n",
       "712                            SELECT 1 as denominator   \n",
       "\n",
       "                                          numeratorsql _datecreated  \\\n",
       "373  SELECT value1+value2 as numerator FROM  (SELEC...   2016-02-01   \n",
       "712  SELECT value1+value2 as numerator FROM  (SELEC...   2016-02-01   \n",
       "\n",
       "    _eventexecutionkey _lastaction _mergekey _sourcesystemcode  \n",
       "373               None           I      None              None  \n",
       "712               None           I      None              None  \n",
       "\n",
       "[2 rows x 23 columns]"
      ]
     },
     "execution_count": 182,
     "metadata": {},
     "output_type": "execute_result"
    }
   ],
   "source": [
    "indis = pd.read_sql(\"select * from dim_dhis_indicator \", conn)\n",
    "indis[indis['numerator'].str.contains('GCAkHwMAWM6')]"
   ]
  },
  {
   "cell_type": "code",
   "execution_count": null,
   "metadata": {
    "collapsed": true
   },
   "outputs": [],
   "source": []
  },
  {
   "cell_type": "code",
   "execution_count": null,
   "metadata": {
    "collapsed": true
   },
   "outputs": [],
   "source": []
  },
  {
   "cell_type": "code",
   "execution_count": null,
   "metadata": {
    "collapsed": true
   },
   "outputs": [],
   "source": []
  },
  {
   "cell_type": "code",
   "execution_count": null,
   "metadata": {
    "collapsed": true
   },
   "outputs": [],
   "source": []
  },
  {
   "cell_type": "code",
   "execution_count": null,
   "metadata": {
    "collapsed": true
   },
   "outputs": [],
   "source": []
  },
  {
   "cell_type": "code",
   "execution_count": null,
   "metadata": {
    "collapsed": true
   },
   "outputs": [],
   "source": []
  },
  {
   "cell_type": "code",
   "execution_count": null,
   "metadata": {
    "collapsed": true
   },
   "outputs": [],
   "source": []
  },
  {
   "cell_type": "code",
   "execution_count": null,
   "metadata": {
    "collapsed": true
   },
   "outputs": [],
   "source": []
  },
  {
   "cell_type": "code",
   "execution_count": null,
   "metadata": {
    "collapsed": true
   },
   "outputs": [],
   "source": []
  }
 ],
 "metadata": {
  "kernelspec": {
   "display_name": "Python 2",
   "language": "python",
   "name": "python2"
  },
  "language_info": {
   "codemirror_mode": {
    "name": "ipython",
    "version": 2
   },
   "file_extension": ".py",
   "mimetype": "text/x-python",
   "name": "python",
   "nbconvert_exporter": "python",
   "pygments_lexer": "ipython2",
   "version": "2.7.13"
  }
 },
 "nbformat": 4,
 "nbformat_minor": 2
}
