{
 "cells": [
  {
   "cell_type": "code",
   "execution_count": 15,
   "metadata": {
    "collapsed": true
   },
   "outputs": [],
   "source": [
    "#import needed libraries\n",
    "import pandas as pd\n",
    "import numpy as np\n",
    "from pandas import DataFrame, Series\n",
    "import json\n",
    "import psycopg2\n",
    "import os\n"
   ]
  },
  {
   "cell_type": "code",
   "execution_count": 16,
   "metadata": {
    "collapsed": true
   },
   "outputs": [],
   "source": [
    "def get_connection():\n",
    "    conn = {}\n",
    "    with open('../db_connection/db_config.json') as my_file:\n",
    "        db_conf = json.load(my_file)\n",
    "    conn_str = \"host={} dbname={} user={} password={}\".format(\n",
    "                db_conf['host'], db_conf['database'], \n",
    "                db_conf['user'], db_conf['passw'])\n",
    "    try:\n",
    "        conn = psycopg2.connect(conn_str)\n",
    "        return conn\n",
    "    except:\n",
    "        return 'error in connecting to database'"
   ]
  },
  {
   "cell_type": "code",
   "execution_count": null,
   "metadata": {},
   "outputs": [],
   "source": [
    "get_connection()"
   ]
  },
  {
   "cell_type": "code",
   "execution_count": null,
   "metadata": {},
   "outputs": [],
   "source": [
    "#get facility data types\n",
    "def get_facility_types():\n",
    "    '''return all facility types'''\n",
    "    conn = get_connection()\n",
    "    all_facility_types = DataFrame()\n",
    "\n",
    "    for chunk in pd.read_sql('SELECT * FROM facilities_facilitytype', con=conn, chunksize=100):\n",
    "        all_facility_types = all_facility_types.append(chunk)\n",
    "    \n",
    "    return all_facility_types"
   ]
  },
  {
   "cell_type": "code",
   "execution_count": null,
   "metadata": {},
   "outputs": [],
   "source": []
  },
  {
   "cell_type": "code",
   "execution_count": null,
   "metadata": {
    "collapsed": true
   },
   "outputs": [],
   "source": [
    "facility_types = get_facility_types()"
   ]
  },
  {
   "cell_type": "code",
   "execution_count": null,
   "metadata": {},
   "outputs": [],
   "source": [
    "facility_types[['name','id']]"
   ]
  },
  {
   "cell_type": "code",
   "execution_count": null,
   "metadata": {
    "collapsed": true
   },
   "outputs": [],
   "source": []
  },
  {
   "cell_type": "code",
   "execution_count": null,
   "metadata": {
    "collapsed": true
   },
   "outputs": [],
   "source": []
  },
  {
   "cell_type": "code",
   "execution_count": null,
   "metadata": {
    "collapsed": true
   },
   "outputs": [],
   "source": []
  },
  {
   "cell_type": "code",
   "execution_count": 19,
   "metadata": {
    "collapsed": true
   },
   "outputs": [],
   "source": [
    "#get facility keph levels\n",
    "def get_facility_keph_levels():\n",
    "    '''return all facility keph levels'''\n",
    "    conn = get_connection()\n",
    "    all_keph_levels = DataFrame()\n",
    "    for chunk in pd.read_sql('SELECT * FROM facilities_kephlevel', con=conn, chunksize=100):\n",
    "        all_keph_levels = all_keph_levels.append(chunk)\n",
    "    \n",
    "    return all_keph_levels\n"
   ]
  },
  {
   "cell_type": "code",
   "execution_count": 23,
   "metadata": {},
   "outputs": [
    {
     "data": {
      "text/html": [
       "<div>\n",
       "<style>\n",
       "    .dataframe thead tr:only-child th {\n",
       "        text-align: right;\n",
       "    }\n",
       "\n",
       "    .dataframe thead th {\n",
       "        text-align: left;\n",
       "    }\n",
       "\n",
       "    .dataframe tbody tr th {\n",
       "        vertical-align: top;\n",
       "    }\n",
       "</style>\n",
       "<table border=\"1\" class=\"dataframe\">\n",
       "  <thead>\n",
       "    <tr style=\"text-align: right;\">\n",
       "      <th></th>\n",
       "      <th>name</th>\n",
       "      <th>id</th>\n",
       "    </tr>\n",
       "  </thead>\n",
       "  <tbody>\n",
       "    <tr>\n",
       "      <th>0</th>\n",
       "      <td>0</td>\n",
       "      <td>0</td>\n",
       "    </tr>\n",
       "    <tr>\n",
       "      <th>1</th>\n",
       "      <td>Level 1</td>\n",
       "      <td>e57ba272-f8b1-42e7-8cca-7b41db6fd6c3</td>\n",
       "    </tr>\n",
       "    <tr>\n",
       "      <th>2</th>\n",
       "      <td>Level 2</td>\n",
       "      <td>7b8cced5-f9a1-4f18-aa2e-f2241ef9c984</td>\n",
       "    </tr>\n",
       "    <tr>\n",
       "      <th>3</th>\n",
       "      <td>Level 3</td>\n",
       "      <td>2fb834bd-dfb9-4aab-8102-071077b7394c</td>\n",
       "    </tr>\n",
       "    <tr>\n",
       "      <th>4</th>\n",
       "      <td>Level 4</td>\n",
       "      <td>415184b9-434a-44ae-b893-c1249df5d8b6</td>\n",
       "    </tr>\n",
       "    <tr>\n",
       "      <th>5</th>\n",
       "      <td>Level 5</td>\n",
       "      <td>62f50231-5886-45b8-9e1c-22d2dbeadb74</td>\n",
       "    </tr>\n",
       "    <tr>\n",
       "      <th>6</th>\n",
       "      <td>Level 6</td>\n",
       "      <td>169f6176-8166-4d51-9b7c-e5d5fee1e9a1</td>\n",
       "    </tr>\n",
       "    <tr>\n",
       "      <th>7</th>\n",
       "      <td>Not Classified</td>\n",
       "      <td>67ff9d16-ac99-4d0a-b750-2a0f0569445b</td>\n",
       "    </tr>\n",
       "  </tbody>\n",
       "</table>\n",
       "</div>"
      ],
      "text/plain": [
       "             name                                    id\n",
       "0               0                                     0\n",
       "1         Level 1  e57ba272-f8b1-42e7-8cca-7b41db6fd6c3\n",
       "2         Level 2  7b8cced5-f9a1-4f18-aa2e-f2241ef9c984\n",
       "3         Level 3  2fb834bd-dfb9-4aab-8102-071077b7394c\n",
       "4         Level 4  415184b9-434a-44ae-b893-c1249df5d8b6\n",
       "5         Level 5  62f50231-5886-45b8-9e1c-22d2dbeadb74\n",
       "6         Level 6  169f6176-8166-4d51-9b7c-e5d5fee1e9a1\n",
       "7  Not Classified  67ff9d16-ac99-4d0a-b750-2a0f0569445b"
      ]
     },
     "execution_count": 23,
     "metadata": {},
     "output_type": "execute_result"
    }
   ],
   "source": [
    "keph_levels = get_facility_keph_levels()\n",
    "keph_levels[['name','id']]"
   ]
  },
  {
   "cell_type": "code",
   "execution_count": null,
   "metadata": {
    "collapsed": true
   },
   "outputs": [],
   "source": []
  }
 ],
 "metadata": {
  "kernelspec": {
   "display_name": "Python 2",
   "language": "python",
   "name": "python2"
  },
  "language_info": {
   "codemirror_mode": {
    "name": "ipython",
    "version": 2
   },
   "file_extension": ".py",
   "mimetype": "text/x-python",
   "name": "python",
   "nbconvert_exporter": "python",
   "pygments_lexer": "ipython2",
   "version": "2.7.13"
  }
 },
 "nbformat": 4,
 "nbformat_minor": 2
}
